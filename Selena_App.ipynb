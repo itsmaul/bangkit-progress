{
  "nbformat": 4,
  "nbformat_minor": 0,
  "metadata": {
    "colab": {
      "provenance": [],
      "authorship_tag": "ABX9TyP8DGNdq+McMO2rKhvTOw8D",
      "include_colab_link": true
    },
    "kernelspec": {
      "name": "python3",
      "display_name": "Python 3"
    },
    "language_info": {
      "name": "python"
    }
  },
  "cells": [
    {
      "cell_type": "markdown",
      "metadata": {
        "id": "view-in-github",
        "colab_type": "text"
      },
      "source": [
        "<a href=\"https://colab.research.google.com/github/itsmaul/bangkit-progress/blob/main/Selena_App.ipynb\" target=\"_parent\"><img src=\"https://colab.research.google.com/assets/colab-badge.svg\" alt=\"Open In Colab\"/></a>"
      ]
    },
    {
      "cell_type": "markdown",
      "source": [
        "# **CAPSTONE PROJECT - SELENA APP (SELLING, FINANCE, AND ANALYTICS)**"
      ],
      "metadata": {
        "id": "WZR5C50nYkGR"
      }
    },
    {
      "cell_type": "markdown",
      "source": [
        "## **Proses Analisis oleh Model ML (Menggunakan File .pkl)**\n",
        "\n",
        "1. Backend memuat model ML yang sudah dilatih (disimpan dalam format .pkl) menggunakan library Pickle di Python.\n",
        "2. Model ML ini memproses data transaksi pengguna yang sudah diambil dari database untuk melakukan beberapa tugas analisis:\n",
        "  - Deteksi Anomali Pengeluaran: Model ML mendeteksi adanya transaksi atau pengeluaran yang tidak biasa atau mencurigakan.\n",
        "  - Arus Kas: Mengidentifikasi pola pemasukan dan pengeluaran.\n",
        "  - Saran Keuangan: Berdasarkan analisis tren keuangan pengguna, model bisa memberikan saran, misalnya mengurangi pengeluaran di kategori tertentu."
      ],
      "metadata": {
        "id": "BtC8IiuVaD8P"
      }
    },
    {
      "cell_type": "markdown",
      "source": [
        "## **Pengembalian Hasil Analisis ke Backend (ML ke CC)**\n",
        "\n",
        "1. Model ML menghasilkan output analisis, seperti rekomendasi keuangan dan deteksi anomali, yang dikonversi ke format JSON.\n",
        "2. Backend menerima hasil ini dan menggabungkannya menjadi satu respons JSON yang siap dikirim ke aplikasi mobile."
      ],
      "metadata": {
        "id": "kxZG2tF8apc3"
      }
    },
    {
      "cell_type": "markdown",
      "source": [
        "### **Import Library yang Digunakan**"
      ],
      "metadata": {
        "id": "SZVCICblatPf"
      }
    },
    {
      "cell_type": "code",
      "execution_count": 1,
      "metadata": {
        "id": "EPm3db5uHgPe"
      },
      "outputs": [],
      "source": [
        "import csv\n",
        "import pickle\n",
        "import numpy as np\n",
        "import pandas as pd\n",
        "import tensorflow as tf\n",
        "import matplotlib.pyplot as plt\n",
        "from matplotlib.dates import DateFormatter"
      ]
    },
    {
      "cell_type": "markdown",
      "source": [
        "### **Convert Excel to CSV**"
      ],
      "metadata": {
        "id": "6e260ElcbyuG"
      }
    },
    {
      "source": [
        "read_file = pd.read_excel(\"Order.completed.20240903_20241003.xlsx\")\n",
        "read_file.to_csv(\"Order.completed.20240903_20241003.csv\", header=True)\n",
        "df = pd.DataFrame(pd.read_csv(\"Order.completed.20240903_20241003.csv\"))\n",
        "print(df.head())"
      ],
      "cell_type": "code",
      "metadata": {
        "colab": {
          "base_uri": "https://localhost:8080/"
        },
        "id": "rzVXfBc5dDEb",
        "outputId": "de6a8c72-f39b-4436-c25f-5a4a197fe215"
      },
      "execution_count": 2,
      "outputs": [
        {
          "output_type": "stream",
          "name": "stdout",
          "text": [
            "   Unnamed: 0     No. Pesanan Status Pesanan Status Pembatalan/ Pengembalian  \\\n",
            "0           0  24090319KKAFE8        Selesai                             NaN   \n",
            "1           1  2409043YH69NTF        Selesai                             NaN   \n",
            "2           2  2409031QMAU0WH        Selesai                             NaN   \n",
            "3           3  24090449E4N3U0        Selesai                             NaN   \n",
            "4           4  2409069M51V33M        Selesai                             NaN   \n",
            "\n",
            "            No. Resi                  Opsi Pengiriman  \\\n",
            "0  SPXID040285869389  Reguler (Cashless)-SPX Standard   \n",
            "1  SPXID047799706439  Reguler (Cashless)-SPX Standard   \n",
            "2  SPXID045570814139  Reguler (Cashless)-SPX Standard   \n",
            "3      CM93203860375   Reguler (Cashless)-JNE Reguler   \n",
            "4  SPXID048740532539  Reguler (Cashless)-SPX Standard   \n",
            "\n",
            "  Antar ke counter/ pick-up  \\\n",
            "0          Antar ke Counter   \n",
            "1          Antar ke Counter   \n",
            "2          Antar ke Counter   \n",
            "3          Antar ke Counter   \n",
            "4          Antar ke Counter   \n",
            "\n",
            "  Pesanan Harus Dikirimkan Sebelum (Menghindari keterlambatan)  \\\n",
            "0                                   2024-09-06 13:38             \n",
            "1                                   2024-09-09 15:16             \n",
            "2                                   2024-09-06 17:49             \n",
            "3                                   2024-09-09 18:14             \n",
            "4                                   2024-09-11 21:11             \n",
            "\n",
            "  Waktu Pengiriman Diatur Waktu Pesanan Dibuat  ... Perkiraan Ongkos Kirim  \\\n",
            "0        2024-09-03 17:21     2024-09-03 13:38  ...                   15.0   \n",
            "1        2024-09-04 16:59     2024-09-04 15:15  ...                   15.0   \n",
            "2        2024-09-04 12:43     2024-09-03 17:48  ...                   15.0   \n",
            "3        2024-09-05 20:15     2024-09-04 18:12  ...                   64.0   \n",
            "4        2024-09-07 16:58     2024-09-06 21:08  ...                   15.0   \n",
            "\n",
            "  Catatan dari Pembeli  Catatan Username (Pembeli)  Nama Penerima No. Telepon  \\\n",
            "0                  NaN      NaN          naranin65        A*****a    ******56   \n",
            "1                  NaN      NaN             m_ange       M******n    ******50   \n",
            "2                  NaN      NaN          niat.baik           A**s    ******55   \n",
            "3                  NaN      NaN      zakiyamani680       Z******i    ******22   \n",
            "4                  NaN      NaN        salsaatalya       S******a    ******31   \n",
            "\n",
            "  Alamat Pengiriman          Kota/Kabupaten          Provinsi  \\\n",
            "0          Jl******           KAB. PONOROGO        JAWA TIMUR   \n",
            "1          Ja******           KOTA SURABAYA        JAWA TIMUR   \n",
            "2          Jl******      KOTA JAKARTA BARAT       DKI JAKARTA   \n",
            "3          To******          KOTA SAMARINDA  KALIMANTAN TIMUR   \n",
            "4          Vi******  KOTA TANGERANG SELATAN            BANTEN   \n",
            "\n",
            "   Waktu Pesanan Selesai  \n",
            "0       2024-09-06 13:19  \n",
            "1       2024-09-06 14:20  \n",
            "2       2024-09-08 09:26  \n",
            "3       2024-09-08 14:39  \n",
            "4       2024-09-08 17:02  \n",
            "\n",
            "[5 rows x 49 columns]\n"
          ]
        }
      ]
    },
    {
      "cell_type": "markdown",
      "source": [
        "### **Assessing Data**"
      ],
      "metadata": {
        "id": "wwQeWiDqeyBp"
      }
    },
    {
      "cell_type": "code",
      "source": [
        "def assessing_data(df):\n",
        "    print(f\"\\n---TABLE INFO---\\n\")\n",
        "    df.info()\n",
        "\n",
        "    print(f\"\\n---MISSING VALUES---\\n\")\n",
        "    print(df.isna().sum())\n",
        "\n",
        "    print(f\"\\n---DUPLICATE DATA---\\n\")\n",
        "    print(df.duplicated().sum())\n",
        "\n",
        "    print(f\"\\n---STATISTICS PARAMETER---\\n\")\n",
        "    print(df.describe())"
      ],
      "metadata": {
        "id": "YCOmp8BNeeZi"
      },
      "execution_count": 3,
      "outputs": []
    },
    {
      "cell_type": "code",
      "source": [
        "assessing_data(df)"
      ],
      "metadata": {
        "colab": {
          "base_uri": "https://localhost:8080/"
        },
        "id": "6OVQJqb6e8hC",
        "outputId": "02070dd7-3066-4be7-80e0-578b7dfeb958"
      },
      "execution_count": 4,
      "outputs": [
        {
          "output_type": "stream",
          "name": "stdout",
          "text": [
            "\n",
            "---TABLE INFO---\n",
            "\n",
            "<class 'pandas.core.frame.DataFrame'>\n",
            "RangeIndex: 112 entries, 0 to 111\n",
            "Data columns (total 49 columns):\n",
            " #   Column                                                        Non-Null Count  Dtype  \n",
            "---  ------                                                        --------------  -----  \n",
            " 0   Unnamed: 0                                                    112 non-null    int64  \n",
            " 1   No. Pesanan                                                   112 non-null    object \n",
            " 2   Status Pesanan                                                112 non-null    object \n",
            " 3   Status Pembatalan/ Pengembalian                               1 non-null      object \n",
            " 4   No. Resi                                                      112 non-null    object \n",
            " 5   Opsi Pengiriman                                               112 non-null    object \n",
            " 6   Antar ke counter/ pick-up                                     112 non-null    object \n",
            " 7   Pesanan Harus Dikirimkan Sebelum (Menghindari keterlambatan)  112 non-null    object \n",
            " 8   Waktu Pengiriman Diatur                                       112 non-null    object \n",
            " 9   Waktu Pesanan Dibuat                                          112 non-null    object \n",
            " 10  Waktu Pembayaran Dilakukan                                    112 non-null    object \n",
            " 11  Metode Pembayaran                                             112 non-null    object \n",
            " 12  SKU Induk                                                     0 non-null      float64\n",
            " 13  Nama Produk                                                   112 non-null    object \n",
            " 14  Nomor Referensi SKU                                           0 non-null      float64\n",
            " 15  Nama Variasi                                                  111 non-null    object \n",
            " 16  Harga Awal                                                    112 non-null    object \n",
            " 17  Harga Setelah Diskon                                          112 non-null    object \n",
            " 18  Jumlah                                                        112 non-null    int64  \n",
            " 19  Returned quantity                                             112 non-null    int64  \n",
            " 20  Total Harga Produk                                            112 non-null    object \n",
            " 21  Total Diskon                                                  112 non-null    int64  \n",
            " 22  Diskon Dari Penjual                                           112 non-null    int64  \n",
            " 23  Diskon Dari Shopee                                            112 non-null    int64  \n",
            " 24  Berat Produk                                                  112 non-null    object \n",
            " 25  Jumlah Produk di Pesan                                        112 non-null    int64  \n",
            " 26  Total Berat                                                   112 non-null    object \n",
            " 27  Voucher Ditanggung Penjual                                    112 non-null    int64  \n",
            " 28  Cashback Koin                                                 112 non-null    int64  \n",
            " 29  Voucher Ditanggung Shopee                                     112 non-null    float64\n",
            " 30  Paket Diskon                                                  112 non-null    object \n",
            " 31  Paket Diskon (Diskon dari Shopee)                             112 non-null    int64  \n",
            " 32  Paket Diskon (Diskon dari Penjual)                            112 non-null    int64  \n",
            " 33  Potongan Koin Shopee                                          112 non-null    int64  \n",
            " 34  Diskon Kartu Kredit                                           112 non-null    int64  \n",
            " 35  Ongkos Kirim Dibayar oleh Pembeli                             112 non-null    float64\n",
            " 36  Estimasi Potongan Biaya Pengiriman                            112 non-null    float64\n",
            " 37  Ongkos Kirim Pengembalian Barang                              112 non-null    int64  \n",
            " 38  Total Pembayaran                                              112 non-null    object \n",
            " 39  Perkiraan Ongkos Kirim                                        112 non-null    float64\n",
            " 40  Catatan dari Pembeli                                          7 non-null      object \n",
            " 41  Catatan                                                       0 non-null      float64\n",
            " 42  Username (Pembeli)                                            112 non-null    object \n",
            " 43  Nama Penerima                                                 112 non-null    object \n",
            " 44  No. Telepon                                                   112 non-null    object \n",
            " 45  Alamat Pengiriman                                             112 non-null    object \n",
            " 46  Kota/Kabupaten                                                112 non-null    object \n",
            " 47  Provinsi                                                      112 non-null    object \n",
            " 48  Waktu Pesanan Selesai                                         112 non-null    object \n",
            "dtypes: float64(7), int64(14), object(28)\n",
            "memory usage: 43.0+ KB\n",
            "\n",
            "---MISSING VALUES---\n",
            "\n",
            "Unnamed: 0                                                        0\n",
            "No. Pesanan                                                       0\n",
            "Status Pesanan                                                    0\n",
            "Status Pembatalan/ Pengembalian                                 111\n",
            "No. Resi                                                          0\n",
            "Opsi Pengiriman                                                   0\n",
            "Antar ke counter/ pick-up                                         0\n",
            "Pesanan Harus Dikirimkan Sebelum (Menghindari keterlambatan)      0\n",
            "Waktu Pengiriman Diatur                                           0\n",
            "Waktu Pesanan Dibuat                                              0\n",
            "Waktu Pembayaran Dilakukan                                        0\n",
            "Metode Pembayaran                                                 0\n",
            "SKU Induk                                                       112\n",
            "Nama Produk                                                       0\n",
            "Nomor Referensi SKU                                             112\n",
            "Nama Variasi                                                      1\n",
            "Harga Awal                                                        0\n",
            "Harga Setelah Diskon                                              0\n",
            "Jumlah                                                            0\n",
            "Returned quantity                                                 0\n",
            "Total Harga Produk                                                0\n",
            "Total Diskon                                                      0\n",
            "Diskon Dari Penjual                                               0\n",
            "Diskon Dari Shopee                                                0\n",
            "Berat Produk                                                      0\n",
            "Jumlah Produk di Pesan                                            0\n",
            "Total Berat                                                       0\n",
            "Voucher Ditanggung Penjual                                        0\n",
            "Cashback Koin                                                     0\n",
            "Voucher Ditanggung Shopee                                         0\n",
            "Paket Diskon                                                      0\n",
            "Paket Diskon (Diskon dari Shopee)                                 0\n",
            "Paket Diskon (Diskon dari Penjual)                                0\n",
            "Potongan Koin Shopee                                              0\n",
            "Diskon Kartu Kredit                                               0\n",
            "Ongkos Kirim Dibayar oleh Pembeli                                 0\n",
            "Estimasi Potongan Biaya Pengiriman                                0\n",
            "Ongkos Kirim Pengembalian Barang                                  0\n",
            "Total Pembayaran                                                  0\n",
            "Perkiraan Ongkos Kirim                                            0\n",
            "Catatan dari Pembeli                                            105\n",
            "Catatan                                                         112\n",
            "Username (Pembeli)                                                0\n",
            "Nama Penerima                                                     0\n",
            "No. Telepon                                                       0\n",
            "Alamat Pengiriman                                                 0\n",
            "Kota/Kabupaten                                                    0\n",
            "Provinsi                                                          0\n",
            "Waktu Pesanan Selesai                                             0\n",
            "dtype: int64\n",
            "\n",
            "---DUPLICATE DATA---\n",
            "\n",
            "0\n",
            "\n",
            "---STATISTICS PARAMETER---\n",
            "\n",
            "       Unnamed: 0  SKU Induk  Nomor Referensi SKU      Jumlah  \\\n",
            "count  112.000000        0.0                  0.0  112.000000   \n",
            "mean    55.500000        NaN                  NaN    1.053571   \n",
            "std     32.475632        NaN                  NaN    0.351042   \n",
            "min      0.000000        NaN                  NaN    1.000000   \n",
            "25%     27.750000        NaN                  NaN    1.000000   \n",
            "50%     55.500000        NaN                  NaN    1.000000   \n",
            "75%     83.250000        NaN                  NaN    1.000000   \n",
            "max    111.000000        NaN                  NaN    4.000000   \n",
            "\n",
            "       Returned quantity  Total Diskon  Diskon Dari Penjual  \\\n",
            "count         112.000000         112.0                112.0   \n",
            "mean            0.008929           0.0                  0.0   \n",
            "std             0.094491           0.0                  0.0   \n",
            "min             0.000000           0.0                  0.0   \n",
            "25%             0.000000           0.0                  0.0   \n",
            "50%             0.000000           0.0                  0.0   \n",
            "75%             0.000000           0.0                  0.0   \n",
            "max             1.000000           0.0                  0.0   \n",
            "\n",
            "       Diskon Dari Shopee  Jumlah Produk di Pesan  Voucher Ditanggung Penjual  \\\n",
            "count               112.0              112.000000                  112.000000   \n",
            "mean                  0.0                1.107143                  126.857143   \n",
            "std                   0.0                0.410606                  312.131840   \n",
            "min                   0.0                1.000000                    0.000000   \n",
            "25%                   0.0                1.000000                    0.000000   \n",
            "50%                   0.0                1.000000                    0.000000   \n",
            "75%                   0.0                1.000000                    0.000000   \n",
            "max                   0.0                4.000000                  888.000000   \n",
            "\n",
            "       ...  Voucher Ditanggung Shopee  Paket Diskon (Diskon dari Shopee)  \\\n",
            "count  ...                 112.000000                              112.0   \n",
            "mean   ...                   3.470955                                0.0   \n",
            "std    ...                   6.541758                                0.0   \n",
            "min    ...                   0.000000                                0.0   \n",
            "25%    ...                   0.000000                                0.0   \n",
            "50%    ...                   0.000000                                0.0   \n",
            "75%    ...                   3.655000                                0.0   \n",
            "max    ...                  43.040000                                0.0   \n",
            "\n",
            "       Paket Diskon (Diskon dari Penjual)  Potongan Koin Shopee  \\\n",
            "count                               112.0            112.000000   \n",
            "mean                                  0.0             78.383929   \n",
            "std                                   0.0            548.331117   \n",
            "min                                   0.0              0.000000   \n",
            "25%                                   0.0              0.000000   \n",
            "50%                                   0.0              0.000000   \n",
            "75%                                   0.0              0.000000   \n",
            "max                                   0.0           5595.000000   \n",
            "\n",
            "       Diskon Kartu Kredit  Ongkos Kirim Dibayar oleh Pembeli  \\\n",
            "count                112.0                         112.000000   \n",
            "mean                   0.0                           1.406250   \n",
            "std                    0.0                           5.451891   \n",
            "min                    0.0                           0.000000   \n",
            "25%                    0.0                           0.000000   \n",
            "50%                    0.0                           0.000000   \n",
            "75%                    0.0                           0.000000   \n",
            "max                    0.0                          41.000000   \n",
            "\n",
            "       Estimasi Potongan Biaya Pengiriman  Ongkos Kirim Pengembalian Barang  \\\n",
            "count                          112.000000                             112.0   \n",
            "mean                            20.946429                               0.0   \n",
            "std                             11.203554                               0.0   \n",
            "min                              0.000000                               0.0   \n",
            "25%                             15.000000                               0.0   \n",
            "50%                             15.000000                               0.0   \n",
            "75%                             28.250000                               0.0   \n",
            "max                             60.000000                               0.0   \n",
            "\n",
            "       Perkiraan Ongkos Kirim  Catatan  \n",
            "count              112.000000      0.0  \n",
            "mean                22.486607      NaN  \n",
            "std                 13.773009      NaN  \n",
            "min                 12.000000      NaN  \n",
            "25%                 15.000000      NaN  \n",
            "50%                 15.000000      NaN  \n",
            "75%                 29.000000      NaN  \n",
            "max                101.000000      NaN  \n",
            "\n",
            "[8 rows x 21 columns]\n"
          ]
        }
      ]
    },
    {
      "cell_type": "markdown",
      "source": [
        "### **Cleaning Data**"
      ],
      "metadata": {
        "id": "TBbMDVa0fO13"
      }
    },
    {
      "cell_type": "code",
      "source": [
        "df = df[df['Status Pembatalan/ Pengembalian'] != 'Permintaan Disetujui']"
      ],
      "metadata": {
        "id": "5lzXvnj4oTcD"
      },
      "execution_count": 5,
      "outputs": []
    },
    {
      "cell_type": "code",
      "source": [
        "df.rename(columns={'Jumlah Produk di Pesan': 'Jumlah Pemesanan'}, inplace=True)"
      ],
      "metadata": {
        "colab": {
          "base_uri": "https://localhost:8080/"
        },
        "id": "GMxedOWCjPvD",
        "outputId": "635a0af5-2ccc-4784-c2e2-7e094f82b7a1"
      },
      "execution_count": 6,
      "outputs": [
        {
          "output_type": "stream",
          "name": "stderr",
          "text": [
            "<ipython-input-6-a6fcb73df647>:1: SettingWithCopyWarning: \n",
            "A value is trying to be set on a copy of a slice from a DataFrame\n",
            "\n",
            "See the caveats in the documentation: https://pandas.pydata.org/pandas-docs/stable/user_guide/indexing.html#returning-a-view-versus-a-copy\n",
            "  df.rename(columns={'Jumlah Produk di Pesan': 'Jumlah Pemesanan'}, inplace=True)\n"
          ]
        }
      ]
    },
    {
      "cell_type": "code",
      "source": [
        "totalbayar_column = [\"Total Pembayaran\"]\n",
        "\n",
        "for column in totalbayar_column:\n",
        "    df[column] = df[column].astype(str)\n",
        "    df[column] = df[column].str.replace('.', '', regex=False).astype(int)"
      ],
      "metadata": {
        "colab": {
          "base_uri": "https://localhost:8080/"
        },
        "id": "vMuhOMMrfvA_",
        "outputId": "55735d52-c025-4051-e1d2-6a2c4b179a45"
      },
      "execution_count": 7,
      "outputs": [
        {
          "output_type": "stream",
          "name": "stderr",
          "text": [
            "<ipython-input-7-ee20d05e945e>:4: SettingWithCopyWarning: \n",
            "A value is trying to be set on a copy of a slice from a DataFrame.\n",
            "Try using .loc[row_indexer,col_indexer] = value instead\n",
            "\n",
            "See the caveats in the documentation: https://pandas.pydata.org/pandas-docs/stable/user_guide/indexing.html#returning-a-view-versus-a-copy\n",
            "  df[column] = df[column].astype(str)\n",
            "<ipython-input-7-ee20d05e945e>:5: SettingWithCopyWarning: \n",
            "A value is trying to be set on a copy of a slice from a DataFrame.\n",
            "Try using .loc[row_indexer,col_indexer] = value instead\n",
            "\n",
            "See the caveats in the documentation: https://pandas.pydata.org/pandas-docs/stable/user_guide/indexing.html#returning-a-view-versus-a-copy\n",
            "  df[column] = df[column].str.replace('.', '', regex=False).astype(int)\n"
          ]
        }
      ]
    },
    {
      "cell_type": "code",
      "source": [
        "datetime_column = [\"Waktu Pesanan Selesai\"]\n",
        "\n",
        "for column in datetime_column:\n",
        "    df[column] = pd.to_datetime(df[column])"
      ],
      "metadata": {
        "colab": {
          "base_uri": "https://localhost:8080/"
        },
        "id": "cvu68AR-fLaV",
        "outputId": "fa20e1e7-2574-4355-9c5a-d01286e90221"
      },
      "execution_count": 8,
      "outputs": [
        {
          "output_type": "stream",
          "name": "stderr",
          "text": [
            "<ipython-input-8-1c1408a6f515>:4: SettingWithCopyWarning: \n",
            "A value is trying to be set on a copy of a slice from a DataFrame.\n",
            "Try using .loc[row_indexer,col_indexer] = value instead\n",
            "\n",
            "See the caveats in the documentation: https://pandas.pydata.org/pandas-docs/stable/user_guide/indexing.html#returning-a-view-versus-a-copy\n",
            "  df[column] = pd.to_datetime(df[column])\n"
          ]
        }
      ]
    },
    {
      "cell_type": "code",
      "source": [
        "selected_columns = ['Jumlah Pemesanan', 'Total Pembayaran', 'Waktu Pesanan Selesai']\n",
        "assessing_data(df[selected_columns])"
      ],
      "metadata": {
        "colab": {
          "base_uri": "https://localhost:8080/"
        },
        "id": "vB_FjoBZiEoH",
        "outputId": "6b71e334-0c62-48fc-f601-450445249db2"
      },
      "execution_count": 9,
      "outputs": [
        {
          "output_type": "stream",
          "name": "stdout",
          "text": [
            "\n",
            "---TABLE INFO---\n",
            "\n",
            "<class 'pandas.core.frame.DataFrame'>\n",
            "Index: 111 entries, 0 to 111\n",
            "Data columns (total 3 columns):\n",
            " #   Column                 Non-Null Count  Dtype         \n",
            "---  ------                 --------------  -----         \n",
            " 0   Jumlah Pemesanan       111 non-null    int64         \n",
            " 1   Total Pembayaran       111 non-null    int64         \n",
            " 2   Waktu Pesanan Selesai  111 non-null    datetime64[ns]\n",
            "dtypes: datetime64[ns](1), int64(2)\n",
            "memory usage: 3.5 KB\n",
            "\n",
            "---MISSING VALUES---\n",
            "\n",
            "Jumlah Pemesanan         0\n",
            "Total Pembayaran         0\n",
            "Waktu Pesanan Selesai    0\n",
            "dtype: int64\n",
            "\n",
            "---DUPLICATE DATA---\n",
            "\n",
            "4\n",
            "\n",
            "---STATISTICS PARAMETER---\n",
            "\n",
            "       Jumlah Pemesanan  Total Pembayaran          Waktu Pesanan Selesai\n",
            "count        111.000000      1.110000e+02                            111\n",
            "mean           1.108108      1.443431e+05  2024-09-24 14:18:21.621621760\n",
            "min            1.000000      3.100000e+04            2024-09-06 13:19:00\n",
            "25%            1.000000      8.100000e+04            2024-09-15 23:23:30\n",
            "50%            1.000000      1.030490e+05            2024-09-22 03:09:00\n",
            "75%            1.000000      1.755890e+05            2024-10-04 20:48:30\n",
            "max            4.000000      1.075960e+06            2024-10-13 12:25:00\n",
            "std            0.412340      1.346789e+05                            NaN\n"
          ]
        }
      ]
    },
    {
      "cell_type": "markdown",
      "source": [
        "### **Exploratory Data Analysis**"
      ],
      "metadata": {
        "id": "HoB91bfLlyr_"
      }
    },
    {
      "cell_type": "code",
      "source": [
        "df[selected_columns].sample(10)"
      ],
      "metadata": {
        "colab": {
          "base_uri": "https://localhost:8080/",
          "height": 363
        },
        "id": "z03cZJ6VlwI9",
        "outputId": "f3f75d9c-6c72-4f54-e09b-5083a751f00b"
      },
      "execution_count": 10,
      "outputs": [
        {
          "output_type": "execute_result",
          "data": {
            "text/plain": [
              "    Jumlah Pemesanan  Total Pembayaran Waktu Pesanan Selesai\n",
              "30                 1            208610   2024-09-16 15:01:00\n",
              "12                 1            319601   2024-09-11 05:46:00\n",
              "37                 1            434411   2024-09-18 15:37:00\n",
              "13                 1            551982   2024-09-11 18:41:00\n",
              "57                 1            103049   2024-09-22 06:21:00\n",
              "35                 1             81000   2024-09-18 10:00:00\n",
              "92                 1            179360   2024-10-07 11:16:00\n",
              "28                 1            100805   2024-09-16 07:59:00\n",
              "63                 1            113720   2024-09-24 17:18:00\n",
              "79                 1             45716   2024-10-02 14:17:00"
            ],
            "text/html": [
              "\n",
              "  <div id=\"df-1e78480d-101b-4aa7-bb68-33709806c4d8\" class=\"colab-df-container\">\n",
              "    <div>\n",
              "<style scoped>\n",
              "    .dataframe tbody tr th:only-of-type {\n",
              "        vertical-align: middle;\n",
              "    }\n",
              "\n",
              "    .dataframe tbody tr th {\n",
              "        vertical-align: top;\n",
              "    }\n",
              "\n",
              "    .dataframe thead th {\n",
              "        text-align: right;\n",
              "    }\n",
              "</style>\n",
              "<table border=\"1\" class=\"dataframe\">\n",
              "  <thead>\n",
              "    <tr style=\"text-align: right;\">\n",
              "      <th></th>\n",
              "      <th>Jumlah Pemesanan</th>\n",
              "      <th>Total Pembayaran</th>\n",
              "      <th>Waktu Pesanan Selesai</th>\n",
              "    </tr>\n",
              "  </thead>\n",
              "  <tbody>\n",
              "    <tr>\n",
              "      <th>30</th>\n",
              "      <td>1</td>\n",
              "      <td>208610</td>\n",
              "      <td>2024-09-16 15:01:00</td>\n",
              "    </tr>\n",
              "    <tr>\n",
              "      <th>12</th>\n",
              "      <td>1</td>\n",
              "      <td>319601</td>\n",
              "      <td>2024-09-11 05:46:00</td>\n",
              "    </tr>\n",
              "    <tr>\n",
              "      <th>37</th>\n",
              "      <td>1</td>\n",
              "      <td>434411</td>\n",
              "      <td>2024-09-18 15:37:00</td>\n",
              "    </tr>\n",
              "    <tr>\n",
              "      <th>13</th>\n",
              "      <td>1</td>\n",
              "      <td>551982</td>\n",
              "      <td>2024-09-11 18:41:00</td>\n",
              "    </tr>\n",
              "    <tr>\n",
              "      <th>57</th>\n",
              "      <td>1</td>\n",
              "      <td>103049</td>\n",
              "      <td>2024-09-22 06:21:00</td>\n",
              "    </tr>\n",
              "    <tr>\n",
              "      <th>35</th>\n",
              "      <td>1</td>\n",
              "      <td>81000</td>\n",
              "      <td>2024-09-18 10:00:00</td>\n",
              "    </tr>\n",
              "    <tr>\n",
              "      <th>92</th>\n",
              "      <td>1</td>\n",
              "      <td>179360</td>\n",
              "      <td>2024-10-07 11:16:00</td>\n",
              "    </tr>\n",
              "    <tr>\n",
              "      <th>28</th>\n",
              "      <td>1</td>\n",
              "      <td>100805</td>\n",
              "      <td>2024-09-16 07:59:00</td>\n",
              "    </tr>\n",
              "    <tr>\n",
              "      <th>63</th>\n",
              "      <td>1</td>\n",
              "      <td>113720</td>\n",
              "      <td>2024-09-24 17:18:00</td>\n",
              "    </tr>\n",
              "    <tr>\n",
              "      <th>79</th>\n",
              "      <td>1</td>\n",
              "      <td>45716</td>\n",
              "      <td>2024-10-02 14:17:00</td>\n",
              "    </tr>\n",
              "  </tbody>\n",
              "</table>\n",
              "</div>\n",
              "    <div class=\"colab-df-buttons\">\n",
              "\n",
              "  <div class=\"colab-df-container\">\n",
              "    <button class=\"colab-df-convert\" onclick=\"convertToInteractive('df-1e78480d-101b-4aa7-bb68-33709806c4d8')\"\n",
              "            title=\"Convert this dataframe to an interactive table.\"\n",
              "            style=\"display:none;\">\n",
              "\n",
              "  <svg xmlns=\"http://www.w3.org/2000/svg\" height=\"24px\" viewBox=\"0 -960 960 960\">\n",
              "    <path d=\"M120-120v-720h720v720H120Zm60-500h600v-160H180v160Zm220 220h160v-160H400v160Zm0 220h160v-160H400v160ZM180-400h160v-160H180v160Zm440 0h160v-160H620v160ZM180-180h160v-160H180v160Zm440 0h160v-160H620v160Z\"/>\n",
              "  </svg>\n",
              "    </button>\n",
              "\n",
              "  <style>\n",
              "    .colab-df-container {\n",
              "      display:flex;\n",
              "      gap: 12px;\n",
              "    }\n",
              "\n",
              "    .colab-df-convert {\n",
              "      background-color: #E8F0FE;\n",
              "      border: none;\n",
              "      border-radius: 50%;\n",
              "      cursor: pointer;\n",
              "      display: none;\n",
              "      fill: #1967D2;\n",
              "      height: 32px;\n",
              "      padding: 0 0 0 0;\n",
              "      width: 32px;\n",
              "    }\n",
              "\n",
              "    .colab-df-convert:hover {\n",
              "      background-color: #E2EBFA;\n",
              "      box-shadow: 0px 1px 2px rgba(60, 64, 67, 0.3), 0px 1px 3px 1px rgba(60, 64, 67, 0.15);\n",
              "      fill: #174EA6;\n",
              "    }\n",
              "\n",
              "    .colab-df-buttons div {\n",
              "      margin-bottom: 4px;\n",
              "    }\n",
              "\n",
              "    [theme=dark] .colab-df-convert {\n",
              "      background-color: #3B4455;\n",
              "      fill: #D2E3FC;\n",
              "    }\n",
              "\n",
              "    [theme=dark] .colab-df-convert:hover {\n",
              "      background-color: #434B5C;\n",
              "      box-shadow: 0px 1px 3px 1px rgba(0, 0, 0, 0.15);\n",
              "      filter: drop-shadow(0px 1px 2px rgba(0, 0, 0, 0.3));\n",
              "      fill: #FFFFFF;\n",
              "    }\n",
              "  </style>\n",
              "\n",
              "    <script>\n",
              "      const buttonEl =\n",
              "        document.querySelector('#df-1e78480d-101b-4aa7-bb68-33709806c4d8 button.colab-df-convert');\n",
              "      buttonEl.style.display =\n",
              "        google.colab.kernel.accessAllowed ? 'block' : 'none';\n",
              "\n",
              "      async function convertToInteractive(key) {\n",
              "        const element = document.querySelector('#df-1e78480d-101b-4aa7-bb68-33709806c4d8');\n",
              "        const dataTable =\n",
              "          await google.colab.kernel.invokeFunction('convertToInteractive',\n",
              "                                                    [key], {});\n",
              "        if (!dataTable) return;\n",
              "\n",
              "        const docLinkHtml = 'Like what you see? Visit the ' +\n",
              "          '<a target=\"_blank\" href=https://colab.research.google.com/notebooks/data_table.ipynb>data table notebook</a>'\n",
              "          + ' to learn more about interactive tables.';\n",
              "        element.innerHTML = '';\n",
              "        dataTable['output_type'] = 'display_data';\n",
              "        await google.colab.output.renderOutput(dataTable, element);\n",
              "        const docLink = document.createElement('div');\n",
              "        docLink.innerHTML = docLinkHtml;\n",
              "        element.appendChild(docLink);\n",
              "      }\n",
              "    </script>\n",
              "  </div>\n",
              "\n",
              "\n",
              "<div id=\"df-c2f71fdc-7a98-4e33-91fc-c0578b132067\">\n",
              "  <button class=\"colab-df-quickchart\" onclick=\"quickchart('df-c2f71fdc-7a98-4e33-91fc-c0578b132067')\"\n",
              "            title=\"Suggest charts\"\n",
              "            style=\"display:none;\">\n",
              "\n",
              "<svg xmlns=\"http://www.w3.org/2000/svg\" height=\"24px\"viewBox=\"0 0 24 24\"\n",
              "     width=\"24px\">\n",
              "    <g>\n",
              "        <path d=\"M19 3H5c-1.1 0-2 .9-2 2v14c0 1.1.9 2 2 2h14c1.1 0 2-.9 2-2V5c0-1.1-.9-2-2-2zM9 17H7v-7h2v7zm4 0h-2V7h2v10zm4 0h-2v-4h2v4z\"/>\n",
              "    </g>\n",
              "</svg>\n",
              "  </button>\n",
              "\n",
              "<style>\n",
              "  .colab-df-quickchart {\n",
              "      --bg-color: #E8F0FE;\n",
              "      --fill-color: #1967D2;\n",
              "      --hover-bg-color: #E2EBFA;\n",
              "      --hover-fill-color: #174EA6;\n",
              "      --disabled-fill-color: #AAA;\n",
              "      --disabled-bg-color: #DDD;\n",
              "  }\n",
              "\n",
              "  [theme=dark] .colab-df-quickchart {\n",
              "      --bg-color: #3B4455;\n",
              "      --fill-color: #D2E3FC;\n",
              "      --hover-bg-color: #434B5C;\n",
              "      --hover-fill-color: #FFFFFF;\n",
              "      --disabled-bg-color: #3B4455;\n",
              "      --disabled-fill-color: #666;\n",
              "  }\n",
              "\n",
              "  .colab-df-quickchart {\n",
              "    background-color: var(--bg-color);\n",
              "    border: none;\n",
              "    border-radius: 50%;\n",
              "    cursor: pointer;\n",
              "    display: none;\n",
              "    fill: var(--fill-color);\n",
              "    height: 32px;\n",
              "    padding: 0;\n",
              "    width: 32px;\n",
              "  }\n",
              "\n",
              "  .colab-df-quickchart:hover {\n",
              "    background-color: var(--hover-bg-color);\n",
              "    box-shadow: 0 1px 2px rgba(60, 64, 67, 0.3), 0 1px 3px 1px rgba(60, 64, 67, 0.15);\n",
              "    fill: var(--button-hover-fill-color);\n",
              "  }\n",
              "\n",
              "  .colab-df-quickchart-complete:disabled,\n",
              "  .colab-df-quickchart-complete:disabled:hover {\n",
              "    background-color: var(--disabled-bg-color);\n",
              "    fill: var(--disabled-fill-color);\n",
              "    box-shadow: none;\n",
              "  }\n",
              "\n",
              "  .colab-df-spinner {\n",
              "    border: 2px solid var(--fill-color);\n",
              "    border-color: transparent;\n",
              "    border-bottom-color: var(--fill-color);\n",
              "    animation:\n",
              "      spin 1s steps(1) infinite;\n",
              "  }\n",
              "\n",
              "  @keyframes spin {\n",
              "    0% {\n",
              "      border-color: transparent;\n",
              "      border-bottom-color: var(--fill-color);\n",
              "      border-left-color: var(--fill-color);\n",
              "    }\n",
              "    20% {\n",
              "      border-color: transparent;\n",
              "      border-left-color: var(--fill-color);\n",
              "      border-top-color: var(--fill-color);\n",
              "    }\n",
              "    30% {\n",
              "      border-color: transparent;\n",
              "      border-left-color: var(--fill-color);\n",
              "      border-top-color: var(--fill-color);\n",
              "      border-right-color: var(--fill-color);\n",
              "    }\n",
              "    40% {\n",
              "      border-color: transparent;\n",
              "      border-right-color: var(--fill-color);\n",
              "      border-top-color: var(--fill-color);\n",
              "    }\n",
              "    60% {\n",
              "      border-color: transparent;\n",
              "      border-right-color: var(--fill-color);\n",
              "    }\n",
              "    80% {\n",
              "      border-color: transparent;\n",
              "      border-right-color: var(--fill-color);\n",
              "      border-bottom-color: var(--fill-color);\n",
              "    }\n",
              "    90% {\n",
              "      border-color: transparent;\n",
              "      border-bottom-color: var(--fill-color);\n",
              "    }\n",
              "  }\n",
              "</style>\n",
              "\n",
              "  <script>\n",
              "    async function quickchart(key) {\n",
              "      const quickchartButtonEl =\n",
              "        document.querySelector('#' + key + ' button');\n",
              "      quickchartButtonEl.disabled = true;  // To prevent multiple clicks.\n",
              "      quickchartButtonEl.classList.add('colab-df-spinner');\n",
              "      try {\n",
              "        const charts = await google.colab.kernel.invokeFunction(\n",
              "            'suggestCharts', [key], {});\n",
              "      } catch (error) {\n",
              "        console.error('Error during call to suggestCharts:', error);\n",
              "      }\n",
              "      quickchartButtonEl.classList.remove('colab-df-spinner');\n",
              "      quickchartButtonEl.classList.add('colab-df-quickchart-complete');\n",
              "    }\n",
              "    (() => {\n",
              "      let quickchartButtonEl =\n",
              "        document.querySelector('#df-c2f71fdc-7a98-4e33-91fc-c0578b132067 button');\n",
              "      quickchartButtonEl.style.display =\n",
              "        google.colab.kernel.accessAllowed ? 'block' : 'none';\n",
              "    })();\n",
              "  </script>\n",
              "</div>\n",
              "\n",
              "    </div>\n",
              "  </div>\n"
            ],
            "application/vnd.google.colaboratory.intrinsic+json": {
              "type": "dataframe",
              "summary": "{\n  \"name\": \"df[selected_columns]\",\n  \"rows\": 10,\n  \"fields\": [\n    {\n      \"column\": \"Jumlah Pemesanan\",\n      \"properties\": {\n        \"dtype\": \"number\",\n        \"std\": 0,\n        \"min\": 1,\n        \"max\": 1,\n        \"num_unique_values\": 1,\n        \"samples\": [\n          1\n        ],\n        \"semantic_type\": \"\",\n        \"description\": \"\"\n      }\n    },\n    {\n      \"column\": \"Total Pembayaran\",\n      \"properties\": {\n        \"dtype\": \"number\",\n        \"std\": 168780,\n        \"min\": 45716,\n        \"max\": 551982,\n        \"num_unique_values\": 10,\n        \"samples\": [\n          113720\n        ],\n        \"semantic_type\": \"\",\n        \"description\": \"\"\n      }\n    },\n    {\n      \"column\": \"Waktu Pesanan Selesai\",\n      \"properties\": {\n        \"dtype\": \"date\",\n        \"min\": \"2024-09-11 05:46:00\",\n        \"max\": \"2024-10-07 11:16:00\",\n        \"num_unique_values\": 10,\n        \"samples\": [\n          \"2024-09-24 17:18:00\"\n        ],\n        \"semantic_type\": \"\",\n        \"description\": \"\"\n      }\n    }\n  ]\n}"
            }
          },
          "metadata": {},
          "execution_count": 10
        }
      ]
    },
    {
      "cell_type": "markdown",
      "source": [
        "## **TIME SERIES**"
      ],
      "metadata": {
        "id": "MW_Ys7Jvpt-I"
      }
    },
    {
      "cell_type": "code",
      "source": [
        "DATA_PATH = 'Order.completed.20240903_20241003.csv'\n",
        "\n",
        "with open(DATA_PATH, 'r') as csvfile:\n",
        "    print(f\"Header looks like this:\\n\\n{csvfile.readline()}\")\n",
        "    print(f\"First data point looks like this:\\n\\n{csvfile.readline()}\")\n",
        "    print(f\"Second data point looks like this:\\n\\n{csvfile.readline()}\")"
      ],
      "metadata": {
        "colab": {
          "base_uri": "https://localhost:8080/"
        },
        "id": "LploF2pypLsJ",
        "outputId": "354e9141-a560-4991-f3e9-3a8252759794"
      },
      "execution_count": 11,
      "outputs": [
        {
          "output_type": "stream",
          "name": "stdout",
          "text": [
            "Header looks like this:\n",
            "\n",
            ",No. Pesanan,Status Pesanan,Status Pembatalan/ Pengembalian,No. Resi,Opsi Pengiriman,Antar ke counter/ pick-up,Pesanan Harus Dikirimkan Sebelum (Menghindari keterlambatan),Waktu Pengiriman Diatur,Waktu Pesanan Dibuat,Waktu Pembayaran Dilakukan,Metode Pembayaran,SKU Induk,Nama Produk,Nomor Referensi SKU,Nama Variasi,Harga Awal,Harga Setelah Diskon,Jumlah,Returned quantity,Total Harga Produk,Total Diskon,Diskon Dari Penjual,Diskon Dari Shopee,Berat Produk,Jumlah Produk di Pesan,Total Berat,Voucher Ditanggung Penjual,Cashback Koin,Voucher Ditanggung Shopee,Paket Diskon,Paket Diskon (Diskon dari Shopee),Paket Diskon (Diskon dari Penjual),Potongan Koin Shopee,Diskon Kartu Kredit,Ongkos Kirim Dibayar oleh Pembeli,Estimasi Potongan Biaya Pengiriman,Ongkos Kirim Pengembalian Barang,Total Pembayaran,Perkiraan Ongkos Kirim,Catatan dari Pembeli,Catatan,Username (Pembeli),Nama Penerima,No. Telepon,Alamat Pengiriman,Kota/Kabupaten,Provinsi,Waktu Pesanan Selesai\n",
            "\n",
            "First data point looks like this:\n",
            "\n",
            "0,24090319KKAFE8,Selesai,,SPXID040285869389,Reguler (Cashless)-SPX Standard,Antar ke Counter,2024-09-06 13:38,2024-09-03 17:21,2024-09-03 13:38,2024-09-03 13:38,SPayLater,,link BARU,,Baenara,104.000,104.000,1,0,104.000,0,0,0,10 gr,1,10 gr,888,0,2.063,N,0,0,0,0,0.0,15.0,0,103.059,15.0,,,naranin65,A*****a,******56,Jl******,KAB. PONOROGO,JAWA TIMUR,2024-09-06 13:19\n",
            "\n",
            "Second data point looks like this:\n",
            "\n",
            "1,2409043YH69NTF,Selesai,,SPXID047799706439,Reguler (Cashless)-SPX Standard,Antar ke Counter,2024-09-09 15:16,2024-09-04 16:59,2024-09-04 15:15,2024-09-04 15:16,Kartu Kredit/Debit,,link BARU,,Marie agustin,187.000,187.000,1,0,187.000,0,0,0,10 gr,1,10 gr,0,0,3.74,N,0,0,225,0,0.0,15.0,0,184.035,15.0,,,m_ange,M******n,******50,Ja******,KOTA SURABAYA,JAWA TIMUR,2024-09-06 14:20\n",
            "\n"
          ]
        }
      ]
    },
    {
      "cell_type": "code",
      "source": [
        "def plot_series(time, series, format=\"-\", start=0, end=None):\n",
        "    \"\"\"Plot the series\"\"\"\n",
        "    plt.plot(time[start:end], series[start:end], format)\n",
        "    plt.xlabel(\"Date\")\n",
        "    plt.ylabel(\"Income\")\n",
        "    plt.grid(True)"
      ],
      "metadata": {
        "id": "XBJuWTsPqDy5"
      },
      "execution_count": 12,
      "outputs": []
    },
    {
      "cell_type": "code",
      "source": [
        "def parse_data_from_file(filename):\n",
        "    \"\"\"Parse data from CSV file (assumes two columns for Quantity and Income)\"\"\"\n",
        "\n",
        "    date = df['Waktu Pesanan Selesai'].tolist()\n",
        "    income = df['Total Pembayaran'].tolist()\n",
        "\n",
        "    return date, income"
      ],
      "metadata": {
        "id": "pj7gQ3eIqTv-"
      },
      "execution_count": 13,
      "outputs": []
    },
    {
      "cell_type": "code",
      "source": [
        "TIME, SERIES = parse_data_from_file(df)"
      ],
      "metadata": {
        "id": "oC2UVUaku8OJ"
      },
      "execution_count": 14,
      "outputs": []
    },
    {
      "cell_type": "code",
      "source": [
        "#Plot series\n",
        "\n",
        "fig, ax = plt.subplots(figsize=(30, 6))\n",
        "DateFormatter('%m-%d')\n",
        "plot_series(TIME, SERIES)"
      ],
      "metadata": {
        "colab": {
          "base_uri": "https://localhost:8080/",
          "height": 278
        },
        "id": "gF4C7m6cvpXy",
        "outputId": "1fcaf026-2f07-4475-ac0f-58e9b7eb521f"
      },
      "execution_count": 15,
      "outputs": [
        {
          "output_type": "display_data",
          "data": {
            "text/plain": [
              "<Figure size 3000x600 with 1 Axes>"
            ],
            "image/png": "[encoded data removed]"
          },
          "metadata": {}
        }
      ]
    },
    {
      "cell_type": "code",
      "source": [
        "# Global Variables\n",
        "\n",
        "SPLIT_TIME = 50\n",
        "WINDOW_SIZE = 16\n",
        "BATCH_SIZE = 32\n",
        "SHUFFLE_BUFFER_SIZE = 75"
      ],
      "metadata": {
        "id": "ov07mMEQxiAs"
      },
      "execution_count": 16,
      "outputs": []
    },
    {
      "cell_type": "code",
      "source": [
        "def train_val_split(time, series):\n",
        "    \"\"\" Splits time series into train and validations sets\"\"\"\n",
        "    time_train = time[:SPLIT_TIME]\n",
        "    series_train = series[:SPLIT_TIME]\n",
        "    time_valid = time[SPLIT_TIME:]\n",
        "    series_valid = series[SPLIT_TIME:]\n",
        "\n",
        "    return time_train, series_train, time_valid, series_valid"
      ],
      "metadata": {
        "id": "1MuslQ-9yvgI"
      },
      "execution_count": 17,
      "outputs": []
    },
    {
      "cell_type": "code",
      "source": [
        "# Split the dataset\n",
        "time_train, series_train, time_valid, series_valid = train_val_split(TIME, SERIES)"
      ],
      "metadata": {
        "id": "3gMAuRhWzwlf"
      },
      "execution_count": 18,
      "outputs": []
    },
    {
      "cell_type": "code",
      "source": [
        "def windowed_dataset(series, window_size):\n",
        "    \"\"\"Creates windowed dataset\"\"\"\n",
        "    series = tf.expand_dims(series, axis=-1)\n",
        "    dataset = tf.data.Dataset.from_tensor_slices(series)\n",
        "    dataset = dataset.window(window_size + 1, shift=1, drop_remainder=True)\n",
        "    dataset = dataset.flat_map(lambda window: window.batch(window_size + 1))\n",
        "    dataset = dataset.shuffle(SHUFFLE_BUFFER_SIZE)\n",
        "    dataset = dataset.map(lambda window: (window[:-1], window[-1]))\n",
        "    dataset = dataset.batch(BATCH_SIZE).prefetch(1)\n",
        "\n",
        "    return dataset"
      ],
      "metadata": {
        "id": "pKDJw2L8z0gT"
      },
      "execution_count": 19,
      "outputs": []
    },
    {
      "cell_type": "code",
      "source": [
        "# Apply the transformation to the training set\n",
        "train_dataset = windowed_dataset(series_train, window_size=WINDOW_SIZE)"
      ],
      "metadata": {
        "id": "6QoiFzVR0BHb"
      },
      "execution_count": 20,
      "outputs": []
    },
    {
      "cell_type": "code",
      "source": [
        "# GRADED FUNCTION: create_uncompiled_model\n",
        "def create_uncompiled_model():\n",
        "    model = tf.keras.models.Sequential([\n",
        "        tf.keras.Input(shape=(WINDOW_SIZE,1)), # Set the correct input shape for the model\n",
        "        tf.keras.layers.Conv1D(filters=16, kernel_size=3, strides=1, padding=\"causal\", activation=\"relu\"),\n",
        "        tf.keras.layers.LSTM(16, return_sequences=True),\n",
        "        tf.keras.layers.LSTM(16),\n",
        "        tf.keras.layers.Dense(8, activation='relu'),\n",
        "        tf.keras.layers.Dense(1),\n",
        "    ])\n",
        "\n",
        "    return model"
      ],
      "metadata": {
        "id": "iOCSqMVX0E21"
      },
      "execution_count": 21,
      "outputs": []
    },
    {
      "cell_type": "code",
      "source": [
        "# Get your uncompiled model\n",
        "uncompiled_model = create_uncompiled_model()"
      ],
      "metadata": {
        "id": "M0A0osAE0hpS"
      },
      "execution_count": 22,
      "outputs": []
    },
    {
      "cell_type": "code",
      "source": [
        "example_batch = train_dataset.take(1)\n",
        "\n",
        "try:\n",
        "\tpredictions = uncompiled_model.predict(example_batch, verbose=False)\n",
        "except:\n",
        "\tprint(\"Your model is not compatible with the dataset you defined earlier. Check that the loss function and last layer are compatible with one another.\")\n",
        "else:\n",
        "\tprint(\"Your current architecture is compatible with the windowed dataset! :)\")\n",
        "\tprint(f\"predictions have shape: {predictions.shape}\")"
      ],
      "metadata": {
        "colab": {
          "base_uri": "https://localhost:8080/"
        },
        "id": "D0rhBKKg1DpT",
        "outputId": "482a97f1-d641-46d4-a668-e9373dc21180"
      },
      "execution_count": 23,
      "outputs": [
        {
          "output_type": "stream",
          "name": "stdout",
          "text": [
            "Your current architecture is compatible with the windowed dataset! :)\n",
            "predictions have shape: (32, 1)\n"
          ]
        },
        {
          "output_type": "stream",
          "name": "stderr",
          "text": [
            "/usr/lib/python3.10/contextlib.py:153: UserWarning: Your input ran out of data; interrupting training. Make sure that your dataset or generator can generate at least `steps_per_epoch * epochs` batches. You may need to use the `.repeat()` function when building your dataset.\n",
            "  self.gen.throw(typ, value, traceback)\n"
          ]
        }
      ]
    },
    {
      "cell_type": "code",
      "source": [
        "uncompiled_model.summary()"
      ],
      "metadata": {
        "colab": {
          "base_uri": "https://localhost:8080/",
          "height": 289
        },
        "id": "uoXAeuqi1P9-",
        "outputId": "b186efd3-ceb9-4d1c-a89d-f35b7df2a7d0"
      },
      "execution_count": 24,
      "outputs": [
        {
          "output_type": "display_data",
          "data": {
            "text/plain": [
              "\u001b[1mModel: \"sequential\"\u001b[0m\n"
            ],
            "text/html": [
              "<pre style=\"white-space:pre;overflow-x:auto;line-height:normal;font-family:Menlo,'DejaVu Sans Mono',consolas,'Courier New',monospace\"><span style=\"font-weight: bold\">Model: \"sequential\"</span>\n",
              "</pre>\n"
            ]
          },
          "metadata": {}
        },
        {
          "output_type": "display_data",
          "data": {
            "text/plain": [
              "┏━━━━━━━━━━━━━━━━━━━━━━━━━━━━━━━━━━━━━━┳━━━━━━━━━━━━━━━━━━━━━━━━━━━━━┳━━━━━━━━━━━━━━━━━┓\n",
              "┃\u001b[1m \u001b[0m\u001b[1mLayer (type)                        \u001b[0m\u001b[1m \u001b[0m┃\u001b[1m \u001b[0m\u001b[1mOutput Shape               \u001b[0m\u001b[1m \u001b[0m┃\u001b[1m \u001b[0m\u001b[1m        Param #\u001b[0m\u001b[1m \u001b[0m┃\n",
              "┡━━━━━━━━━━━━━━━━━━━━━━━━━━━━━━━━━━━━━━╇━━━━━━━━━━━━━━━━━━━━━━━━━━━━━╇━━━━━━━━━━━━━━━━━┩\n",
              "│ conv1d (\u001b[38;5;33mConv1D\u001b[0m)                      │ (\u001b[38;5;45mNone\u001b[0m, \u001b[38;5;34m16\u001b[0m, \u001b[38;5;34m16\u001b[0m)              │              \u001b[38;5;34m64\u001b[0m │\n",
              "├──────────────────────────────────────┼─────────────────────────────┼─────────────────┤\n",
              "│ lstm (\u001b[38;5;33mLSTM\u001b[0m)                          │ (\u001b[38;5;45mNone\u001b[0m, \u001b[38;5;34m16\u001b[0m, \u001b[38;5;34m16\u001b[0m)              │           \u001b[38;5;34m2,112\u001b[0m │\n",
              "├──────────────────────────────────────┼─────────────────────────────┼─────────────────┤\n",
              "│ lstm_1 (\u001b[38;5;33mLSTM\u001b[0m)                        │ (\u001b[38;5;45mNone\u001b[0m, \u001b[38;5;34m16\u001b[0m)                  │           \u001b[38;5;34m2,112\u001b[0m │\n",
              "├──────────────────────────────────────┼─────────────────────────────┼─────────────────┤\n",
              "│ dense (\u001b[38;5;33mDense\u001b[0m)                        │ (\u001b[38;5;45mNone\u001b[0m, \u001b[38;5;34m8\u001b[0m)                   │             \u001b[38;5;34m136\u001b[0m │\n",
              "├──────────────────────────────────────┼─────────────────────────────┼─────────────────┤\n",
              "│ dense_1 (\u001b[38;5;33mDense\u001b[0m)                      │ (\u001b[38;5;45mNone\u001b[0m, \u001b[38;5;34m1\u001b[0m)                   │               \u001b[38;5;34m9\u001b[0m │\n",
              "└──────────────────────────────────────┴─────────────────────────────┴─────────────────┘\n"
            ],
            "text/html": [
              "<pre style=\"white-space:pre;overflow-x:auto;line-height:normal;font-family:Menlo,'DejaVu Sans Mono',consolas,'Courier New',monospace\">┏━━━━━━━━━━━━━━━━━━━━━━━━━━━━━━━━━━━━━━┳━━━━━━━━━━━━━━━━━━━━━━━━━━━━━┳━━━━━━━━━━━━━━━━━┓\n",
              "┃<span style=\"font-weight: bold\"> Layer (type)                         </span>┃<span style=\"font-weight: bold\"> Output Shape                </span>┃<span style=\"font-weight: bold\">         Param # </span>┃\n",
              "┡━━━━━━━━━━━━━━━━━━━━━━━━━━━━━━━━━━━━━━╇━━━━━━━━━━━━━━━━━━━━━━━━━━━━━╇━━━━━━━━━━━━━━━━━┩\n",
              "│ conv1d (<span style=\"color: #0087ff; text-decoration-color: #0087ff\">Conv1D</span>)                      │ (<span style=\"color: #00d7ff; text-decoration-color: #00d7ff\">None</span>, <span style=\"color: #00af00; text-decoration-color: #00af00\">16</span>, <span style=\"color: #00af00; text-decoration-color: #00af00\">16</span>)              │              <span style=\"color: #00af00; text-decoration-color: #00af00\">64</span> │\n",
              "├──────────────────────────────────────┼─────────────────────────────┼─────────────────┤\n",
              "│ lstm (<span style=\"color: #0087ff; text-decoration-color: #0087ff\">LSTM</span>)                          │ (<span style=\"color: #00d7ff; text-decoration-color: #00d7ff\">None</span>, <span style=\"color: #00af00; text-decoration-color: #00af00\">16</span>, <span style=\"color: #00af00; text-decoration-color: #00af00\">16</span>)              │           <span style=\"color: #00af00; text-decoration-color: #00af00\">2,112</span> │\n",
              "├──────────────────────────────────────┼─────────────────────────────┼─────────────────┤\n",
              "│ lstm_1 (<span style=\"color: #0087ff; text-decoration-color: #0087ff\">LSTM</span>)                        │ (<span style=\"color: #00d7ff; text-decoration-color: #00d7ff\">None</span>, <span style=\"color: #00af00; text-decoration-color: #00af00\">16</span>)                  │           <span style=\"color: #00af00; text-decoration-color: #00af00\">2,112</span> │\n",
              "├──────────────────────────────────────┼─────────────────────────────┼─────────────────┤\n",
              "│ dense (<span style=\"color: #0087ff; text-decoration-color: #0087ff\">Dense</span>)                        │ (<span style=\"color: #00d7ff; text-decoration-color: #00d7ff\">None</span>, <span style=\"color: #00af00; text-decoration-color: #00af00\">8</span>)                   │             <span style=\"color: #00af00; text-decoration-color: #00af00\">136</span> │\n",
              "├──────────────────────────────────────┼─────────────────────────────┼─────────────────┤\n",
              "│ dense_1 (<span style=\"color: #0087ff; text-decoration-color: #0087ff\">Dense</span>)                      │ (<span style=\"color: #00d7ff; text-decoration-color: #00d7ff\">None</span>, <span style=\"color: #00af00; text-decoration-color: #00af00\">1</span>)                   │               <span style=\"color: #00af00; text-decoration-color: #00af00\">9</span> │\n",
              "└──────────────────────────────────────┴─────────────────────────────┴─────────────────┘\n",
              "</pre>\n"
            ]
          },
          "metadata": {}
        },
        {
          "output_type": "display_data",
          "data": {
            "text/plain": [
              "\u001b[1m Total params: \u001b[0m\u001b[38;5;34m4,433\u001b[0m (17.32 KB)\n"
            ],
            "text/html": [
              "<pre style=\"white-space:pre;overflow-x:auto;line-height:normal;font-family:Menlo,'DejaVu Sans Mono',consolas,'Courier New',monospace\"><span style=\"font-weight: bold\"> Total params: </span><span style=\"color: #00af00; text-decoration-color: #00af00\">4,433</span> (17.32 KB)\n",
              "</pre>\n"
            ]
          },
          "metadata": {}
        },
        {
          "output_type": "display_data",
          "data": {
            "text/plain": [
              "\u001b[1m Trainable params: \u001b[0m\u001b[38;5;34m4,433\u001b[0m (17.32 KB)\n"
            ],
            "text/html": [
              "<pre style=\"white-space:pre;overflow-x:auto;line-height:normal;font-family:Menlo,'DejaVu Sans Mono',consolas,'Courier New',monospace\"><span style=\"font-weight: bold\"> Trainable params: </span><span style=\"color: #00af00; text-decoration-color: #00af00\">4,433</span> (17.32 KB)\n",
              "</pre>\n"
            ]
          },
          "metadata": {}
        },
        {
          "output_type": "display_data",
          "data": {
            "text/plain": [
              "\u001b[1m Non-trainable params: \u001b[0m\u001b[38;5;34m0\u001b[0m (0.00 B)\n"
            ],
            "text/html": [
              "<pre style=\"white-space:pre;overflow-x:auto;line-height:normal;font-family:Menlo,'DejaVu Sans Mono',consolas,'Courier New',monospace\"><span style=\"font-weight: bold\"> Non-trainable params: </span><span style=\"color: #00af00; text-decoration-color: #00af00\">0</span> (0.00 B)\n",
              "</pre>\n"
            ]
          },
          "metadata": {}
        }
      ]
    },
    {
      "cell_type": "code",
      "source": [
        "def adjust_learning_rate(dataset):\n",
        "    \"\"\"Fit model using different learning rates\"\"\"\n",
        "\n",
        "    model = create_uncompiled_model()\n",
        "\n",
        "    lr_schedule = tf.keras.callbacks.LearningRateScheduler(lambda epoch: 1e-4 * 10**(epoch / 20))\n",
        "\n",
        "    optimizer = tf.keras.optimizers.Adam(learning_rate=32e-2)\n",
        "\n",
        "    model.compile(loss=tf.keras.losses.Huber(),\n",
        "                  optimizer=optimizer,\n",
        "                  metrics=[\"mae\"])\n",
        "\n",
        "    history = model.fit(dataset, epochs=100, callbacks=[lr_schedule])\n",
        "\n",
        "    return history"
      ],
      "metadata": {
        "id": "KirAQNvW1SO-"
      },
      "execution_count": 25,
      "outputs": []
    },
    {
      "cell_type": "code",
      "source": [
        "# Run the training with dynamic LR\n",
        "lr_history = adjust_learning_rate(train_dataset)"
      ],
      "metadata": {
        "colab": {
          "base_uri": "https://localhost:8080/"
        },
        "id": "n-8M78c-1j2E",
        "outputId": "7987e960-4f59-4a70-8599-9cbee43f4ad9"
      },
      "execution_count": 26,
      "outputs": [
        {
          "output_type": "stream",
          "name": "stdout",
          "text": [
            "Epoch 1/100\n",
            "\u001b[1m2/2\u001b[0m \u001b[32m━━━━━━━━━━━━━━━━━━━━\u001b[0m\u001b[37m\u001b[0m \u001b[1m6s\u001b[0m 27ms/step - loss: 160520.2656 - mae: 160520.7656 - learning_rate: 1.0000e-04\n",
            "Epoch 2/100\n",
            "\u001b[1m2/2\u001b[0m \u001b[32m━━━━━━━━━━━━━━━━━━━━\u001b[0m\u001b[37m\u001b[0m \u001b[1m0s\u001b[0m 20ms/step - loss: 151308.4688 - mae: 151308.9688 - learning_rate: 1.1220e-04\n",
            "Epoch 3/100\n",
            "\u001b[1m2/2\u001b[0m \u001b[32m━━━━━━━━━━━━━━━━━━━━\u001b[0m\u001b[37m\u001b[0m \u001b[1m0s\u001b[0m 20ms/step - loss: 161929.6094 - mae: 161930.1094 - learning_rate: 1.2589e-04\n",
            "Epoch 4/100\n",
            "\u001b[1m2/2\u001b[0m \u001b[32m━━━━━━━━━━━━━━━━━━━━\u001b[0m\u001b[37m\u001b[0m \u001b[1m0s\u001b[0m 19ms/step - loss: 160416.8750 - mae: 160417.3750 - learning_rate: 1.4125e-04\n",
            "Epoch 5/100\n",
            "\u001b[1m2/2\u001b[0m \u001b[32m━━━━━━━━━━━━━━━━━━━━\u001b[0m\u001b[37m\u001b[0m \u001b[1m0s\u001b[0m 19ms/step - loss: 162147.5156 - mae: 162148.0156 - learning_rate: 1.5849e-04\n",
            "Epoch 6/100\n",
            "\u001b[1m2/2\u001b[0m \u001b[32m━━━━━━━━━━━━━━━━━━━━\u001b[0m\u001b[37m\u001b[0m \u001b[1m0s\u001b[0m 20ms/step - loss: 160104.3906 - mae: 160104.8906 - learning_rate: 1.7783e-04\n",
            "Epoch 7/100\n",
            "\u001b[1m2/2\u001b[0m \u001b[32m━━━━━━━━━━━━━━━━━━━━\u001b[0m\u001b[37m\u001b[0m \u001b[1m0s\u001b[0m 22ms/step - loss: 161072.8594 - mae: 161073.3594 - learning_rate: 1.9953e-04\n",
            "Epoch 8/100\n",
            "\u001b[1m2/2\u001b[0m \u001b[32m━━━━━━━━━━━━━━━━━━━━\u001b[0m\u001b[37m\u001b[0m \u001b[1m0s\u001b[0m 20ms/step - loss: 162409.9531 - mae: 162410.4531 - learning_rate: 2.2387e-04\n",
            "Epoch 9/100\n",
            "\u001b[1m2/2\u001b[0m \u001b[32m━━━━━━━━━━━━━━━━━━━━\u001b[0m\u001b[37m\u001b[0m \u001b[1m0s\u001b[0m 22ms/step - loss: 160974.4688 - mae: 160974.9688 - learning_rate: 2.5119e-04\n",
            "Epoch 10/100\n",
            "\u001b[1m2/2\u001b[0m \u001b[32m━━━━━━━━━━━━━━━━━━━━\u001b[0m\u001b[37m\u001b[0m \u001b[1m0s\u001b[0m 20ms/step - loss: 160358.5938 - mae: 160359.0938 - learning_rate: 2.8184e-04\n",
            "Epoch 11/100\n",
            "\u001b[1m2/2\u001b[0m \u001b[32m━━━━━━━━━━━━━━━━━━━━\u001b[0m\u001b[37m\u001b[0m \u001b[1m0s\u001b[0m 22ms/step - loss: 161745.1406 - mae: 161745.6406 - learning_rate: 3.1623e-04\n",
            "Epoch 12/100\n",
            "\u001b[1m2/2\u001b[0m \u001b[32m━━━━━━━━━━━━━━━━━━━━\u001b[0m\u001b[37m\u001b[0m \u001b[1m0s\u001b[0m 20ms/step - loss: 161226.3281 - mae: 161226.8281 - learning_rate: 3.5481e-04\n",
            "Epoch 13/100\n",
            "\u001b[1m2/2\u001b[0m \u001b[32m━━━━━━━━━━━━━━━━━━━━\u001b[0m\u001b[37m\u001b[0m \u001b[1m0s\u001b[0m 27ms/step - loss: 162075.3438 - mae: 162075.8438 - learning_rate: 3.9811e-04\n",
            "Epoch 14/100\n",
            "\u001b[1m2/2\u001b[0m \u001b[32m━━━━━━━━━━━━━━━━━━━━\u001b[0m\u001b[37m\u001b[0m \u001b[1m0s\u001b[0m 26ms/step - loss: 161193.8594 - mae: 161194.3594 - learning_rate: 4.4668e-04\n",
            "Epoch 15/100\n",
            "\u001b[1m2/2\u001b[0m \u001b[32m━━━━━━━━━━━━━━━━━━━━\u001b[0m\u001b[37m\u001b[0m \u001b[1m0s\u001b[0m 27ms/step - loss: 162363.7188 - mae: 162364.2188 - learning_rate: 5.0119e-04\n",
            "Epoch 16/100\n",
            "\u001b[1m2/2\u001b[0m \u001b[32m━━━━━━━━━━━━━━━━━━━━\u001b[0m\u001b[37m\u001b[0m \u001b[1m0s\u001b[0m 20ms/step - loss: 160141.3125 - mae: 160141.8125 - learning_rate: 5.6234e-04\n",
            "Epoch 17/100\n",
            "\u001b[1m2/2\u001b[0m \u001b[32m━━━━━━━━━━━━━━━━━━━━\u001b[0m\u001b[37m\u001b[0m \u001b[1m0s\u001b[0m 20ms/step - loss: 162089.4688 - mae: 162089.9688 - learning_rate: 6.3096e-04\n",
            "Epoch 18/100\n",
            "\u001b[1m2/2\u001b[0m \u001b[32m━━━━━━━━━━━━━━━━━━━━\u001b[0m\u001b[37m\u001b[0m \u001b[1m0s\u001b[0m 20ms/step - loss: 160801.3438 - mae: 160801.8438 - learning_rate: 7.0795e-04\n",
            "Epoch 19/100\n",
            "\u001b[1m2/2\u001b[0m \u001b[32m━━━━━━━━━━━━━━━━━━━━\u001b[0m\u001b[37m\u001b[0m \u001b[1m0s\u001b[0m 20ms/step - loss: 160759.8594 - mae: 160760.3594 - learning_rate: 7.9433e-04\n",
            "Epoch 20/100\n",
            "\u001b[1m2/2\u001b[0m \u001b[32m━━━━━━━━━━━━━━━━━━━━\u001b[0m\u001b[37m\u001b[0m \u001b[1m0s\u001b[0m 23ms/step - loss: 161364.1719 - mae: 161364.6719 - learning_rate: 8.9125e-04\n",
            "Epoch 21/100\n",
            "\u001b[1m2/2\u001b[0m \u001b[32m━━━━━━━━━━━━━━━━━━━━\u001b[0m\u001b[37m\u001b[0m \u001b[1m0s\u001b[0m 23ms/step - loss: 161229.3594 - mae: 161229.8594 - learning_rate: 0.0010\n",
            "Epoch 22/100\n",
            "\u001b[1m2/2\u001b[0m \u001b[32m━━━━━━━━━━━━━━━━━━━━\u001b[0m\u001b[37m\u001b[0m \u001b[1m0s\u001b[0m 20ms/step - loss: 157372.2500 - mae: 157372.7500 - learning_rate: 0.0011\n",
            "Epoch 23/100\n",
            "\u001b[1m2/2\u001b[0m \u001b[32m━━━━━━━━━━━━━━━━━━━━\u001b[0m\u001b[37m\u001b[0m \u001b[1m0s\u001b[0m 20ms/step - loss: 151732.9062 - mae: 151733.4062 - learning_rate: 0.0013\n",
            "Epoch 24/100\n",
            "\u001b[1m2/2\u001b[0m \u001b[32m━━━━━━━━━━━━━━━━━━━━\u001b[0m\u001b[37m\u001b[0m \u001b[1m0s\u001b[0m 19ms/step - loss: 162167.8906 - mae: 162168.3906 - learning_rate: 0.0014\n",
            "Epoch 25/100\n",
            "\u001b[1m2/2\u001b[0m \u001b[32m━━━━━━━━━━━━━━━━━━━━\u001b[0m\u001b[37m\u001b[0m \u001b[1m0s\u001b[0m 36ms/step - loss: 162096.9062 - mae: 162097.4062 - learning_rate: 0.0016\n",
            "Epoch 26/100\n",
            "\u001b[1m2/2\u001b[0m \u001b[32m━━━━━━━━━━━━━━━━━━━━\u001b[0m\u001b[37m\u001b[0m \u001b[1m0s\u001b[0m 23ms/step - loss: 161147.8125 - mae: 161148.3125 - learning_rate: 0.0018\n",
            "Epoch 27/100\n",
            "\u001b[1m2/2\u001b[0m \u001b[32m━━━━━━━━━━━━━━━━━━━━\u001b[0m\u001b[37m\u001b[0m \u001b[1m0s\u001b[0m 20ms/step - loss: 162284.4375 - mae: 162284.9375 - learning_rate: 0.0020\n",
            "Epoch 28/100\n",
            "\u001b[1m2/2\u001b[0m \u001b[32m━━━━━━━━━━━━━━━━━━━━\u001b[0m\u001b[37m\u001b[0m \u001b[1m0s\u001b[0m 268ms/step - loss: 162409.1094 - mae: 162409.6094 - learning_rate: 0.0022\n",
            "Epoch 29/100\n",
            "\u001b[1m2/2\u001b[0m \u001b[32m━━━━━━━━━━━━━━━━━━━━\u001b[0m\u001b[37m\u001b[0m \u001b[1m0s\u001b[0m 24ms/step - loss: 161918.1875 - mae: 161918.6875 - learning_rate: 0.0025\n",
            "Epoch 30/100\n",
            "\u001b[1m2/2\u001b[0m \u001b[32m━━━━━━━━━━━━━━━━━━━━\u001b[0m\u001b[37m\u001b[0m \u001b[1m0s\u001b[0m 20ms/step - loss: 161907.6094 - mae: 161908.1094 - learning_rate: 0.0028\n",
            "Epoch 31/100\n",
            "\u001b[1m2/2\u001b[0m \u001b[32m━━━━━━━━━━━━━━━━━━━━\u001b[0m\u001b[37m\u001b[0m \u001b[1m0s\u001b[0m 22ms/step - loss: 161090.5469 - mae: 161091.0469 - learning_rate: 0.0032\n",
            "Epoch 32/100\n",
            "\u001b[1m2/2\u001b[0m \u001b[32m━━━━━━━━━━━━━━━━━━━━\u001b[0m\u001b[37m\u001b[0m \u001b[1m0s\u001b[0m 21ms/step - loss: 161202.8281 - mae: 161203.3281 - learning_rate: 0.0035\n",
            "Epoch 33/100\n",
            "\u001b[1m2/2\u001b[0m \u001b[32m━━━━━━━━━━━━━━━━━━━━\u001b[0m\u001b[37m\u001b[0m \u001b[1m0s\u001b[0m 24ms/step - loss: 161224.6094 - mae: 161225.1094 - learning_rate: 0.0040\n",
            "Epoch 34/100\n",
            "\u001b[1m2/2\u001b[0m \u001b[32m━━━━━━━━━━━━━━━━━━━━\u001b[0m\u001b[37m\u001b[0m \u001b[1m0s\u001b[0m 20ms/step - loss: 161021.2500 - mae: 161021.7500 - learning_rate: 0.0045\n",
            "Epoch 35/100\n",
            "\u001b[1m2/2\u001b[0m \u001b[32m━━━━━━━━━━━━━━━━━━━━\u001b[0m\u001b[37m\u001b[0m \u001b[1m0s\u001b[0m 20ms/step - loss: 161916.7188 - mae: 161917.2188 - learning_rate: 0.0050\n",
            "Epoch 36/100\n",
            "\u001b[1m2/2\u001b[0m \u001b[32m━━━━━━━━━━━━━━━━━━━━\u001b[0m\u001b[37m\u001b[0m \u001b[1m0s\u001b[0m 26ms/step - loss: 158609.0625 - mae: 158609.5625 - learning_rate: 0.0056\n",
            "Epoch 37/100\n",
            "\u001b[1m2/2\u001b[0m \u001b[32m━━━━━━━━━━━━━━━━━━━━\u001b[0m\u001b[37m\u001b[0m \u001b[1m0s\u001b[0m 26ms/step - loss: 160100.9531 - mae: 160101.4531 - learning_rate: 0.0063\n",
            "Epoch 38/100\n",
            "\u001b[1m2/2\u001b[0m \u001b[32m━━━━━━━━━━━━━━━━━━━━\u001b[0m\u001b[37m\u001b[0m \u001b[1m0s\u001b[0m 20ms/step - loss: 162103.8438 - mae: 162104.3438 - learning_rate: 0.0071\n",
            "Epoch 39/100\n",
            "\u001b[1m2/2\u001b[0m \u001b[32m━━━━━━━━━━━━━━━━━━━━\u001b[0m\u001b[37m\u001b[0m \u001b[1m0s\u001b[0m 21ms/step - loss: 161750.8594 - mae: 161751.3594 - learning_rate: 0.0079\n",
            "Epoch 40/100\n",
            "\u001b[1m2/2\u001b[0m \u001b[32m━━━━━━━━━━━━━━━━━━━━\u001b[0m\u001b[37m\u001b[0m \u001b[1m0s\u001b[0m 20ms/step - loss: 161598.7031 - mae: 161599.2031 - learning_rate: 0.0089\n",
            "Epoch 41/100\n",
            "\u001b[1m2/2\u001b[0m \u001b[32m━━━━━━━━━━━━━━━━━━━━\u001b[0m\u001b[37m\u001b[0m \u001b[1m0s\u001b[0m 21ms/step - loss: 160967.8438 - mae: 160968.3438 - learning_rate: 0.0100\n",
            "Epoch 42/100\n",
            "\u001b[1m2/2\u001b[0m \u001b[32m━━━━━━━━━━━━━━━━━━━━\u001b[0m\u001b[37m\u001b[0m \u001b[1m0s\u001b[0m 21ms/step - loss: 161498.5781 - mae: 161499.0781 - learning_rate: 0.0112\n",
            "Epoch 43/100\n",
            "\u001b[1m2/2\u001b[0m \u001b[32m━━━━━━━━━━━━━━━━━━━━\u001b[0m\u001b[37m\u001b[0m \u001b[1m0s\u001b[0m 20ms/step - loss: 162344.1406 - mae: 162344.6406 - learning_rate: 0.0126\n",
            "Epoch 44/100\n",
            "\u001b[1m2/2\u001b[0m \u001b[32m━━━━━━━━━━━━━━━━━━━━\u001b[0m\u001b[37m\u001b[0m \u001b[1m0s\u001b[0m 20ms/step - loss: 161486.4844 - mae: 161486.9844 - learning_rate: 0.0141\n",
            "Epoch 45/100\n",
            "\u001b[1m2/2\u001b[0m \u001b[32m━━━━━━━━━━━━━━━━━━━━\u001b[0m\u001b[37m\u001b[0m \u001b[1m0s\u001b[0m 20ms/step - loss: 161030.5000 - mae: 161031.0000 - learning_rate: 0.0158\n",
            "Epoch 46/100\n",
            "\u001b[1m2/2\u001b[0m \u001b[32m━━━━━━━━━━━━━━━━━━━━\u001b[0m\u001b[37m\u001b[0m \u001b[1m0s\u001b[0m 20ms/step - loss: 162337.9062 - mae: 162338.4062 - learning_rate: 0.0178\n",
            "Epoch 47/100\n",
            "\u001b[1m2/2\u001b[0m \u001b[32m━━━━━━━━━━━━━━━━━━━━\u001b[0m\u001b[37m\u001b[0m \u001b[1m0s\u001b[0m 21ms/step - loss: 161383.1094 - mae: 161383.6094 - learning_rate: 0.0200\n",
            "Epoch 48/100\n",
            "\u001b[1m2/2\u001b[0m \u001b[32m━━━━━━━━━━━━━━━━━━━━\u001b[0m\u001b[37m\u001b[0m \u001b[1m0s\u001b[0m 20ms/step - loss: 158041.5156 - mae: 158042.0156 - learning_rate: 0.0224\n",
            "Epoch 49/100\n",
            "\u001b[1m2/2\u001b[0m \u001b[32m━━━━━━━━━━━━━━━━━━━━\u001b[0m\u001b[37m\u001b[0m \u001b[1m0s\u001b[0m 22ms/step - loss: 161842.1094 - mae: 161842.6094 - learning_rate: 0.0251\n",
            "Epoch 50/100\n",
            "\u001b[1m2/2\u001b[0m \u001b[32m━━━━━━━━━━━━━━━━━━━━\u001b[0m\u001b[37m\u001b[0m \u001b[1m0s\u001b[0m 32ms/step - loss: 161571.7031 - mae: 161572.2031 - learning_rate: 0.0282\n",
            "Epoch 51/100\n",
            "\u001b[1m2/2\u001b[0m \u001b[32m━━━━━━━━━━━━━━━━━━━━\u001b[0m\u001b[37m\u001b[0m \u001b[1m0s\u001b[0m 30ms/step - loss: 160063.7344 - mae: 160064.2344 - learning_rate: 0.0316\n",
            "Epoch 52/100\n",
            "\u001b[1m2/2\u001b[0m \u001b[32m━━━━━━━━━━━━━━━━━━━━\u001b[0m\u001b[37m\u001b[0m \u001b[1m0s\u001b[0m 38ms/step - loss: 160926.8594 - mae: 160927.3594 - learning_rate: 0.0355\n",
            "Epoch 53/100\n",
            "\u001b[1m2/2\u001b[0m \u001b[32m━━━━━━━━━━━━━━━━━━━━\u001b[0m\u001b[37m\u001b[0m \u001b[1m0s\u001b[0m 45ms/step - loss: 161100.5625 - mae: 161101.0625 - learning_rate: 0.0398\n",
            "Epoch 54/100\n",
            "\u001b[1m2/2\u001b[0m \u001b[32m━━━━━━━━━━━━━━━━━━━━\u001b[0m\u001b[37m\u001b[0m \u001b[1m0s\u001b[0m 30ms/step - loss: 161008.1094 - mae: 161008.6094 - learning_rate: 0.0447\n",
            "Epoch 55/100\n",
            "\u001b[1m2/2\u001b[0m \u001b[32m━━━━━━━━━━━━━━━━━━━━\u001b[0m\u001b[37m\u001b[0m \u001b[1m0s\u001b[0m 27ms/step - loss: 161654.1719 - mae: 161654.6719 - learning_rate: 0.0501\n",
            "Epoch 56/100\n",
            "\u001b[1m2/2\u001b[0m \u001b[32m━━━━━━━━━━━━━━━━━━━━\u001b[0m\u001b[37m\u001b[0m \u001b[1m0s\u001b[0m 30ms/step - loss: 160069.8438 - mae: 160070.3438 - learning_rate: 0.0562\n",
            "Epoch 57/100\n",
            "\u001b[1m2/2\u001b[0m \u001b[32m━━━━━━━━━━━━━━━━━━━━\u001b[0m\u001b[37m\u001b[0m \u001b[1m0s\u001b[0m 36ms/step - loss: 161099.1719 - mae: 161099.6719 - learning_rate: 0.0631\n",
            "Epoch 58/100\n",
            "\u001b[1m2/2\u001b[0m \u001b[32m━━━━━━━━━━━━━━━━━━━━\u001b[0m\u001b[37m\u001b[0m \u001b[1m0s\u001b[0m 34ms/step - loss: 160905.4688 - mae: 160905.9688 - learning_rate: 0.0708\n",
            "Epoch 59/100\n",
            "\u001b[1m2/2\u001b[0m \u001b[32m━━━━━━━━━━━━━━━━━━━━\u001b[0m\u001b[37m\u001b[0m \u001b[1m0s\u001b[0m 29ms/step - loss: 158401.5000 - mae: 158402.0000 - learning_rate: 0.0794\n",
            "Epoch 60/100\n",
            "\u001b[1m2/2\u001b[0m \u001b[32m━━━━━━━━━━━━━━━━━━━━\u001b[0m\u001b[37m\u001b[0m \u001b[1m0s\u001b[0m 28ms/step - loss: 151672.3438 - mae: 151672.8438 - learning_rate: 0.0891\n",
            "Epoch 61/100\n",
            "\u001b[1m2/2\u001b[0m \u001b[32m━━━━━━━━━━━━━━━━━━━━\u001b[0m\u001b[37m\u001b[0m \u001b[1m0s\u001b[0m 27ms/step - loss: 158272.5469 - mae: 158273.0469 - learning_rate: 0.1000\n",
            "Epoch 62/100\n",
            "\u001b[1m2/2\u001b[0m \u001b[32m━━━━━━━━━━━━━━━━━━━━\u001b[0m\u001b[37m\u001b[0m \u001b[1m0s\u001b[0m 30ms/step - loss: 160405.9688 - mae: 160406.4688 - learning_rate: 0.1122\n",
            "Epoch 63/100\n",
            "\u001b[1m2/2\u001b[0m \u001b[32m━━━━━━━━━━━━━━━━━━━━\u001b[0m\u001b[37m\u001b[0m \u001b[1m0s\u001b[0m 31ms/step - loss: 161113.9062 - mae: 161114.4062 - learning_rate: 0.1259\n",
            "Epoch 64/100\n",
            "\u001b[1m2/2\u001b[0m \u001b[32m━━━━━━━━━━━━━━━━━━━━\u001b[0m\u001b[37m\u001b[0m \u001b[1m0s\u001b[0m 29ms/step - loss: 160571.5469 - mae: 160572.0469 - learning_rate: 0.1413\n",
            "Epoch 65/100\n",
            "\u001b[1m2/2\u001b[0m \u001b[32m━━━━━━━━━━━━━━━━━━━━\u001b[0m\u001b[37m\u001b[0m \u001b[1m0s\u001b[0m 27ms/step - loss: 160087.7969 - mae: 160088.2969 - learning_rate: 0.1585\n",
            "Epoch 66/100\n",
            "\u001b[1m2/2\u001b[0m \u001b[32m━━━━━━━━━━━━━━━━━━━━\u001b[0m\u001b[37m\u001b[0m \u001b[1m0s\u001b[0m 37ms/step - loss: 160078.7969 - mae: 160079.2969 - learning_rate: 0.1778\n",
            "Epoch 67/100\n",
            "\u001b[1m2/2\u001b[0m \u001b[32m━━━━━━━━━━━━━━━━━━━━\u001b[0m\u001b[37m\u001b[0m \u001b[1m0s\u001b[0m 53ms/step - loss: 160843.4531 - mae: 160843.9531 - learning_rate: 0.1995\n",
            "Epoch 68/100\n",
            "\u001b[1m2/2\u001b[0m \u001b[32m━━━━━━━━━━━━━━━━━━━━\u001b[0m\u001b[37m\u001b[0m \u001b[1m0s\u001b[0m 29ms/step - loss: 159130.6719 - mae: 159131.1719 - learning_rate: 0.2239\n",
            "Epoch 69/100\n",
            "\u001b[1m2/2\u001b[0m \u001b[32m━━━━━━━━━━━━━━━━━━━━\u001b[0m\u001b[37m\u001b[0m \u001b[1m0s\u001b[0m 30ms/step - loss: 158814.2344 - mae: 158814.7344 - learning_rate: 0.2512\n",
            "Epoch 70/100\n",
            "\u001b[1m2/2\u001b[0m \u001b[32m━━━━━━━━━━━━━━━━━━━━\u001b[0m\u001b[37m\u001b[0m \u001b[1m0s\u001b[0m 27ms/step - loss: 158787.7031 - mae: 158788.2031 - learning_rate: 0.2818\n",
            "Epoch 71/100\n",
            "\u001b[1m2/2\u001b[0m \u001b[32m━━━━━━━━━━━━━━━━━━━━\u001b[0m\u001b[37m\u001b[0m \u001b[1m0s\u001b[0m 39ms/step - loss: 158273.0938 - mae: 158273.5938 - learning_rate: 0.3162\n",
            "Epoch 72/100\n",
            "\u001b[1m2/2\u001b[0m \u001b[32m━━━━━━━━━━━━━━━━━━━━\u001b[0m\u001b[37m\u001b[0m \u001b[1m0s\u001b[0m 31ms/step - loss: 155090.5156 - mae: 155091.0156 - learning_rate: 0.3548\n",
            "Epoch 73/100\n",
            "\u001b[1m2/2\u001b[0m \u001b[32m━━━━━━━━━━━━━━━━━━━━\u001b[0m\u001b[37m\u001b[0m \u001b[1m0s\u001b[0m 35ms/step - loss: 155475.5156 - mae: 155476.0156 - learning_rate: 0.3981\n",
            "Epoch 74/100\n",
            "\u001b[1m2/2\u001b[0m \u001b[32m━━━━━━━━━━━━━━━━━━━━\u001b[0m\u001b[37m\u001b[0m \u001b[1m0s\u001b[0m 21ms/step - loss: 154172.8438 - mae: 154173.3438 - learning_rate: 0.4467\n",
            "Epoch 75/100\n",
            "\u001b[1m2/2\u001b[0m \u001b[32m━━━━━━━━━━━━━━━━━━━━\u001b[0m\u001b[37m\u001b[0m \u001b[1m0s\u001b[0m 24ms/step - loss: 152264.7031 - mae: 152265.2031 - learning_rate: 0.5012\n",
            "Epoch 76/100\n",
            "\u001b[1m2/2\u001b[0m \u001b[32m━━━━━━━━━━━━━━━━━━━━\u001b[0m\u001b[37m\u001b[0m \u001b[1m0s\u001b[0m 21ms/step - loss: 147463.7812 - mae: 147464.2812 - learning_rate: 0.5623\n",
            "Epoch 77/100\n",
            "\u001b[1m2/2\u001b[0m \u001b[32m━━━━━━━━━━━━━━━━━━━━\u001b[0m\u001b[37m\u001b[0m \u001b[1m0s\u001b[0m 21ms/step - loss: 145009.3906 - mae: 145009.8906 - learning_rate: 0.6310\n",
            "Epoch 78/100\n",
            "\u001b[1m2/2\u001b[0m \u001b[32m━━━━━━━━━━━━━━━━━━━━\u001b[0m\u001b[37m\u001b[0m \u001b[1m0s\u001b[0m 21ms/step - loss: 136805.4062 - mae: 136805.9062 - learning_rate: 0.7079\n",
            "Epoch 79/100\n",
            "\u001b[1m2/2\u001b[0m \u001b[32m━━━━━━━━━━━━━━━━━━━━\u001b[0m\u001b[37m\u001b[0m \u001b[1m0s\u001b[0m 26ms/step - loss: 134734.7500 - mae: 134735.2500 - learning_rate: 0.7943\n",
            "Epoch 80/100\n",
            "\u001b[1m2/2\u001b[0m \u001b[32m━━━━━━━━━━━━━━━━━━━━\u001b[0m\u001b[37m\u001b[0m \u001b[1m0s\u001b[0m 20ms/step - loss: 128066.9609 - mae: 128067.4609 - learning_rate: 0.8913\n",
            "Epoch 81/100\n",
            "\u001b[1m2/2\u001b[0m \u001b[32m━━━━━━━━━━━━━━━━━━━━\u001b[0m\u001b[37m\u001b[0m \u001b[1m0s\u001b[0m 20ms/step - loss: 117900.0547 - mae: 117900.5547 - learning_rate: 1.0000\n",
            "Epoch 82/100\n",
            "\u001b[1m2/2\u001b[0m \u001b[32m━━━━━━━━━━━━━━━━━━━━\u001b[0m\u001b[37m\u001b[0m \u001b[1m0s\u001b[0m 21ms/step - loss: 103380.3047 - mae: 103380.8047 - learning_rate: 1.1220\n",
            "Epoch 83/100\n",
            "\u001b[1m2/2\u001b[0m \u001b[32m━━━━━━━━━━━━━━━━━━━━\u001b[0m\u001b[37m\u001b[0m \u001b[1m0s\u001b[0m 21ms/step - loss: 91821.3516 - mae: 91821.8516 - learning_rate: 1.2589\n",
            "Epoch 84/100\n",
            "\u001b[1m2/2\u001b[0m \u001b[32m━━━━━━━━━━━━━━━━━━━━\u001b[0m\u001b[37m\u001b[0m \u001b[1m0s\u001b[0m 20ms/step - loss: 80167.9766 - mae: 80168.4766 - learning_rate: 1.4125\n",
            "Epoch 85/100\n",
            "\u001b[1m2/2\u001b[0m \u001b[32m━━━━━━━━━━━━━━━━━━━━\u001b[0m\u001b[37m\u001b[0m \u001b[1m0s\u001b[0m 29ms/step - loss: 76752.3984 - mae: 76752.8984 - learning_rate: 1.5849\n",
            "Epoch 86/100\n",
            "\u001b[1m2/2\u001b[0m \u001b[32m━━━━━━━━━━━━━━━━━━━━\u001b[0m\u001b[37m\u001b[0m \u001b[1m0s\u001b[0m 25ms/step - loss: 67667.7500 - mae: 67668.2500 - learning_rate: 1.7783\n",
            "Epoch 87/100\n",
            "\u001b[1m2/2\u001b[0m \u001b[32m━━━━━━━━━━━━━━━━━━━━\u001b[0m\u001b[37m\u001b[0m \u001b[1m0s\u001b[0m 26ms/step - loss: 69245.6172 - mae: 69246.1172 - learning_rate: 1.9953\n",
            "Epoch 88/100\n",
            "\u001b[1m2/2\u001b[0m \u001b[32m━━━━━━━━━━━━━━━━━━━━\u001b[0m\u001b[37m\u001b[0m \u001b[1m0s\u001b[0m 22ms/step - loss: 82465.5859 - mae: 82466.0859 - learning_rate: 2.2387\n",
            "Epoch 89/100\n",
            "\u001b[1m2/2\u001b[0m \u001b[32m━━━━━━━━━━━━━━━━━━━━\u001b[0m\u001b[37m\u001b[0m \u001b[1m0s\u001b[0m 22ms/step - loss: 86787.4766 - mae: 86787.9766 - learning_rate: 2.5119\n",
            "Epoch 90/100\n",
            "\u001b[1m2/2\u001b[0m \u001b[32m━━━━━━━━━━━━━━━━━━━━\u001b[0m\u001b[37m\u001b[0m \u001b[1m0s\u001b[0m 21ms/step - loss: 91243.1953 - mae: 91243.6953 - learning_rate: 2.8184\n",
            "Epoch 91/100\n",
            "\u001b[1m2/2\u001b[0m \u001b[32m━━━━━━━━━━━━━━━━━━━━\u001b[0m\u001b[37m\u001b[0m \u001b[1m0s\u001b[0m 22ms/step - loss: 88846.0156 - mae: 88846.5156 - learning_rate: 3.1623\n",
            "Epoch 92/100\n",
            "\u001b[1m2/2\u001b[0m \u001b[32m━━━━━━━━━━━━━━━━━━━━\u001b[0m\u001b[37m\u001b[0m \u001b[1m0s\u001b[0m 24ms/step - loss: 87654.5781 - mae: 87655.0781 - learning_rate: 3.5481\n",
            "Epoch 93/100\n",
            "\u001b[1m2/2\u001b[0m \u001b[32m━━━━━━━━━━━━━━━━━━━━\u001b[0m\u001b[37m\u001b[0m \u001b[1m0s\u001b[0m 21ms/step - loss: 83787.3672 - mae: 83787.8672 - learning_rate: 3.9811\n",
            "Epoch 94/100\n",
            "\u001b[1m2/2\u001b[0m \u001b[32m━━━━━━━━━━━━━━━━━━━━\u001b[0m\u001b[37m\u001b[0m \u001b[1m0s\u001b[0m 22ms/step - loss: 80076.1797 - mae: 80076.6797 - learning_rate: 4.4668\n",
            "Epoch 95/100\n",
            "\u001b[1m2/2\u001b[0m \u001b[32m━━━━━━━━━━━━━━━━━━━━\u001b[0m\u001b[37m\u001b[0m \u001b[1m0s\u001b[0m 20ms/step - loss: 78013.1016 - mae: 78013.6016 - learning_rate: 5.0119\n",
            "Epoch 96/100\n",
            "\u001b[1m2/2\u001b[0m \u001b[32m━━━━━━━━━━━━━━━━━━━━\u001b[0m\u001b[37m\u001b[0m \u001b[1m0s\u001b[0m 21ms/step - loss: 76339.2500 - mae: 76339.7500 - learning_rate: 5.6234\n",
            "Epoch 97/100\n",
            "\u001b[1m2/2\u001b[0m \u001b[32m━━━━━━━━━━━━━━━━━━━━\u001b[0m\u001b[37m\u001b[0m \u001b[1m0s\u001b[0m 20ms/step - loss: 79423.1172 - mae: 79423.6172 - learning_rate: 6.3096\n",
            "Epoch 98/100\n",
            "\u001b[1m2/2\u001b[0m \u001b[32m━━━━━━━━━━━━━━━━━━━━\u001b[0m\u001b[37m\u001b[0m \u001b[1m0s\u001b[0m 27ms/step - loss: 83496.3438 - mae: 83496.8438 - learning_rate: 7.0795\n",
            "Epoch 99/100\n",
            "\u001b[1m2/2\u001b[0m \u001b[32m━━━━━━━━━━━━━━━━━━━━\u001b[0m\u001b[37m\u001b[0m \u001b[1m0s\u001b[0m 27ms/step - loss: 84632.1719 - mae: 84632.6719 - learning_rate: 7.9433\n",
            "Epoch 100/100\n",
            "\u001b[1m2/2\u001b[0m \u001b[32m━━━━━━━━━━━━━━━━━━━━\u001b[0m\u001b[37m\u001b[0m \u001b[1m0s\u001b[0m 32ms/step - loss: 76386.2266 - mae: 76386.7266 - learning_rate: 8.9125\n"
          ]
        }
      ]
    },
    {
      "cell_type": "code",
      "source": [
        "plt.semilogx(lr_history.history[\"learning_rate\"], lr_history.history[\"loss\"])"
      ],
      "metadata": {
        "colab": {
          "base_uri": "https://localhost:8080/",
          "height": 451
        },
        "id": "dffc2XZP1plG",
        "outputId": "2b74fb9d-79b5-49e0-a7a4-e551044f64ac"
      },
      "execution_count": 27,
      "outputs": [
        {
          "output_type": "execute_result",
          "data": {
            "text/plain": [
              "[<matplotlib.lines.Line2D at 0x7921094f98d0>]"
            ]
          },
          "metadata": {},
          "execution_count": 27
        },
        {
          "output_type": "display_data",
          "data": {
            "text/plain": [
              "<Figure size 640x480 with 1 Axes>"
            ],
            "image/png": "[encoded data removed]"
          },
          "metadata": {}
        }
      ]
    },
    {
      "cell_type": "code",
      "source": [
        "def create_model():\n",
        "\n",
        "    model = create_uncompiled_model()\n",
        "\n",
        "    model.compile(loss=tf.keras.losses.Huber(),\n",
        "                  optimizer=tf.keras.optimizers.Adam(learning_rate=32e-2),\n",
        "                  metrics=[\"mse\"])\n",
        "\n",
        "    return model"
      ],
      "metadata": {
        "id": "OIVO2oLJ1v_J"
      },
      "execution_count": 28,
      "outputs": []
    },
    {
      "cell_type": "code",
      "source": [
        "# Save an instance of the model\n",
        "model = create_model()"
      ],
      "metadata": {
        "id": "AjezPn9U1-Z-"
      },
      "execution_count": 29,
      "outputs": []
    },
    {
      "cell_type": "code",
      "source": [
        "# Train it\n",
        "history = model.fit(train_dataset, epochs=50)"
      ],
      "metadata": {
        "colab": {
          "base_uri": "https://localhost:8080/"
        },
        "id": "s6LhndqT2B89",
        "outputId": "eea935c3-3468-427c-b6c1-13d25d3f424a"
      },
      "execution_count": 30,
      "outputs": [
        {
          "output_type": "stream",
          "name": "stdout",
          "text": [
            "Epoch 1/50\n",
            "\u001b[1m2/2\u001b[0m \u001b[32m━━━━━━━━━━━━━━━━━━━━\u001b[0m\u001b[37m\u001b[0m \u001b[1m4s\u001b[0m 25ms/step - loss: 161672.5625 - mse: 56944979968.0000\n",
            "Epoch 2/50\n",
            "\u001b[1m2/2\u001b[0m \u001b[32m━━━━━━━━━━━━━━━━━━━━\u001b[0m\u001b[37m\u001b[0m \u001b[1m0s\u001b[0m 19ms/step - loss: 161052.6719 - mse: 56730955776.0000\n",
            "Epoch 3/50\n",
            "\u001b[1m2/2\u001b[0m \u001b[32m━━━━━━━━━━━━━━━━━━━━\u001b[0m\u001b[37m\u001b[0m \u001b[1m0s\u001b[0m 19ms/step - loss: 160958.3750 - mse: 56693731328.0000\n",
            "Epoch 4/50\n",
            "\u001b[1m2/2\u001b[0m \u001b[32m━━━━━━━━━━━━━━━━━━━━\u001b[0m\u001b[37m\u001b[0m \u001b[1m0s\u001b[0m 19ms/step - loss: 159849.6094 - mse: 56399544320.0000\n",
            "Epoch 5/50\n",
            "\u001b[1m2/2\u001b[0m \u001b[32m━━━━━━━━━━━━━━━━━━━━\u001b[0m\u001b[37m\u001b[0m \u001b[1m0s\u001b[0m 20ms/step - loss: 160682.0469 - mse: 56635314176.0000\n",
            "Epoch 6/50\n",
            "\u001b[1m2/2\u001b[0m \u001b[32m━━━━━━━━━━━━━━━━━━━━\u001b[0m\u001b[37m\u001b[0m \u001b[1m0s\u001b[0m 19ms/step - loss: 157240.4688 - mse: 54793711616.0000\n",
            "Epoch 7/50\n",
            "\u001b[1m2/2\u001b[0m \u001b[32m━━━━━━━━━━━━━━━━━━━━\u001b[0m\u001b[37m\u001b[0m \u001b[1m0s\u001b[0m 19ms/step - loss: 160545.3125 - mse: 56595271680.0000\n",
            "Epoch 8/50\n",
            "\u001b[1m2/2\u001b[0m \u001b[32m━━━━━━━━━━━━━━━━━━━━\u001b[0m\u001b[37m\u001b[0m \u001b[1m0s\u001b[0m 22ms/step - loss: 159684.3906 - mse: 56348758016.0000\n",
            "Epoch 9/50\n",
            "\u001b[1m2/2\u001b[0m \u001b[32m━━━━━━━━━━━━━━━━━━━━\u001b[0m\u001b[37m\u001b[0m \u001b[1m0s\u001b[0m 26ms/step - loss: 161316.4219 - mse: 56830132224.0000\n",
            "Epoch 10/50\n",
            "\u001b[1m2/2\u001b[0m \u001b[32m━━━━━━━━━━━━━━━━━━━━\u001b[0m\u001b[37m\u001b[0m \u001b[1m0s\u001b[0m 22ms/step - loss: 157244.7969 - mse: 54813097984.0000 \n",
            "Epoch 11/50\n",
            "\u001b[1m2/2\u001b[0m \u001b[32m━━━━━━━━━━━━━━━━━━━━\u001b[0m\u001b[37m\u001b[0m \u001b[1m0s\u001b[0m 20ms/step - loss: 160921.2031 - mse: 56685056000.0000\n",
            "Epoch 12/50\n",
            "\u001b[1m2/2\u001b[0m \u001b[32m━━━━━━━━━━━━━━━━━━━━\u001b[0m\u001b[37m\u001b[0m \u001b[1m0s\u001b[0m 31ms/step - loss: 160475.1562 - mse: 56559828992.0000\n",
            "Epoch 13/50\n",
            "\u001b[1m2/2\u001b[0m \u001b[32m━━━━━━━━━━━━━━━━━━━━\u001b[0m\u001b[37m\u001b[0m \u001b[1m0s\u001b[0m 19ms/step - loss: 160245.6250 - mse: 56521072640.0000 \n",
            "Epoch 14/50\n",
            "\u001b[1m2/2\u001b[0m \u001b[32m━━━━━━━━━━━━━━━━━━━━\u001b[0m\u001b[37m\u001b[0m \u001b[1m0s\u001b[0m 19ms/step - loss: 159793.1719 - mse: 56349925376.0000\n",
            "Epoch 15/50\n",
            "\u001b[1m2/2\u001b[0m \u001b[32m━━━━━━━━━━━━━━━━━━━━\u001b[0m\u001b[37m\u001b[0m \u001b[1m0s\u001b[0m 23ms/step - loss: 160430.7188 - mse: 56541757440.0000\n",
            "Epoch 16/50\n",
            "\u001b[1m2/2\u001b[0m \u001b[32m━━━━━━━━━━━━━━━━━━━━\u001b[0m\u001b[37m\u001b[0m \u001b[1m0s\u001b[0m 19ms/step - loss: 159651.0156 - mse: 56292782080.0000\n",
            "Epoch 17/50\n",
            "\u001b[1m2/2\u001b[0m \u001b[32m━━━━━━━━━━━━━━━━━━━━\u001b[0m\u001b[37m\u001b[0m \u001b[1m0s\u001b[0m 19ms/step - loss: 160207.3906 - mse: 56442257408.0000\n",
            "Epoch 18/50\n",
            "\u001b[1m2/2\u001b[0m \u001b[32m━━━━━━━━━━━━━━━━━━━━\u001b[0m\u001b[37m\u001b[0m \u001b[1m0s\u001b[0m 22ms/step - loss: 159830.6094 - mse: 56332333056.0000\n",
            "Epoch 19/50\n",
            "\u001b[1m2/2\u001b[0m \u001b[32m━━━━━━━━━━━━━━━━━━━━\u001b[0m\u001b[37m\u001b[0m \u001b[1m0s\u001b[0m 20ms/step - loss: 157547.3594 - mse: 55673749504.0000\n",
            "Epoch 20/50\n",
            "\u001b[1m2/2\u001b[0m \u001b[32m━━━━━━━━━━━━━━━━━━━━\u001b[0m\u001b[37m\u001b[0m \u001b[1m0s\u001b[0m 20ms/step - loss: 155395.3906 - mse: 54214569984.0000\n",
            "Epoch 21/50\n",
            "\u001b[1m2/2\u001b[0m \u001b[32m━━━━━━━━━━━━━━━━━━━━\u001b[0m\u001b[37m\u001b[0m \u001b[1m0s\u001b[0m 20ms/step - loss: 158786.2656 - mse: 55989288960.0000\n",
            "Epoch 22/50\n",
            "\u001b[1m2/2\u001b[0m \u001b[32m━━━━━━━━━━━━━━━━━━━━\u001b[0m\u001b[37m\u001b[0m \u001b[1m0s\u001b[0m 24ms/step - loss: 157437.5000 - mse: 55629250560.0000\n",
            "Epoch 23/50\n",
            "\u001b[1m2/2\u001b[0m \u001b[32m━━━━━━━━━━━━━━━━━━━━\u001b[0m\u001b[37m\u001b[0m \u001b[1m0s\u001b[0m 29ms/step - loss: 156299.6719 - mse: 55283286016.0000\n",
            "Epoch 24/50\n",
            "\u001b[1m2/2\u001b[0m \u001b[32m━━━━━━━━━━━━━━━━━━━━\u001b[0m\u001b[37m\u001b[0m \u001b[1m0s\u001b[0m 26ms/step - loss: 156518.5000 - mse: 55305981952.0000\n",
            "Epoch 25/50\n",
            "\u001b[1m2/2\u001b[0m \u001b[32m━━━━━━━━━━━━━━━━━━━━\u001b[0m\u001b[37m\u001b[0m \u001b[1m0s\u001b[0m 24ms/step - loss: 157073.0000 - mse: 55415005184.0000\n",
            "Epoch 26/50\n",
            "\u001b[1m2/2\u001b[0m \u001b[32m━━━━━━━━━━━━━━━━━━━━\u001b[0m\u001b[37m\u001b[0m \u001b[1m0s\u001b[0m 23ms/step - loss: 155427.8906 - mse: 54990475264.0000 \n",
            "Epoch 27/50\n",
            "\u001b[1m2/2\u001b[0m \u001b[32m━━━━━━━━━━━━━━━━━━━━\u001b[0m\u001b[37m\u001b[0m \u001b[1m0s\u001b[0m 23ms/step - loss: 154290.2188 - mse: 54672719872.0000\n",
            "Epoch 28/50\n",
            "\u001b[1m2/2\u001b[0m \u001b[32m━━━━━━━━━━━━━━━━━━━━\u001b[0m\u001b[37m\u001b[0m \u001b[1m0s\u001b[0m 19ms/step - loss: 153656.4531 - mse: 54430887936.0000\n",
            "Epoch 29/50\n",
            "\u001b[1m2/2\u001b[0m \u001b[32m━━━━━━━━━━━━━━━━━━━━\u001b[0m\u001b[37m\u001b[0m \u001b[1m0s\u001b[0m 20ms/step - loss: 151878.7344 - mse: 53894791168.0000\n",
            "Epoch 30/50\n",
            "\u001b[1m2/2\u001b[0m \u001b[32m━━━━━━━━━━━━━━━━━━━━\u001b[0m\u001b[37m\u001b[0m \u001b[1m0s\u001b[0m 23ms/step - loss: 151866.1406 - mse: 53934788608.0000\n",
            "Epoch 31/50\n",
            "\u001b[1m2/2\u001b[0m \u001b[32m━━━━━━━━━━━━━━━━━━━━\u001b[0m\u001b[37m\u001b[0m \u001b[1m0s\u001b[0m 20ms/step - loss: 151798.2656 - mse: 53838000128.0000\n",
            "Epoch 32/50\n",
            "\u001b[1m2/2\u001b[0m \u001b[32m━━━━━━━━━━━━━━━━━━━━\u001b[0m\u001b[37m\u001b[0m \u001b[1m0s\u001b[0m 19ms/step - loss: 151095.0469 - mse: 53673947136.0000\n",
            "Epoch 33/50\n",
            "\u001b[1m2/2\u001b[0m \u001b[32m━━━━━━━━━━━━━━━━━━━━\u001b[0m\u001b[37m\u001b[0m \u001b[1m0s\u001b[0m 20ms/step - loss: 151177.4062 - mse: 53632032768.0000\n",
            "Epoch 34/50\n",
            "\u001b[1m2/2\u001b[0m \u001b[32m━━━━━━━━━━━━━━━━━━━━\u001b[0m\u001b[37m\u001b[0m \u001b[1m0s\u001b[0m 19ms/step - loss: 150131.1094 - mse: 53340774400.0000\n",
            "Epoch 35/50\n",
            "\u001b[1m2/2\u001b[0m \u001b[32m━━━━━━━━━━━━━━━━━━━━\u001b[0m\u001b[37m\u001b[0m \u001b[1m0s\u001b[0m 22ms/step - loss: 149780.6875 - mse: 53150601216.0000\n",
            "Epoch 36/50\n",
            "\u001b[1m2/2\u001b[0m \u001b[32m━━━━━━━━━━━━━━━━━━━━\u001b[0m\u001b[37m\u001b[0m \u001b[1m0s\u001b[0m 19ms/step - loss: 148659.0781 - mse: 52843950080.0000\n",
            "Epoch 37/50\n",
            "\u001b[1m2/2\u001b[0m \u001b[32m━━━━━━━━━━━━━━━━━━━━\u001b[0m\u001b[37m\u001b[0m \u001b[1m0s\u001b[0m 25ms/step - loss: 145705.3438 - mse: 52101353472.0000\n",
            "Epoch 38/50\n",
            "\u001b[1m2/2\u001b[0m \u001b[32m━━━━━━━━━━━━━━━━━━━━\u001b[0m\u001b[37m\u001b[0m \u001b[1m0s\u001b[0m 27ms/step - loss: 142018.5000 - mse: 50251104256.0000\n",
            "Epoch 39/50\n",
            "\u001b[1m2/2\u001b[0m \u001b[32m━━━━━━━━━━━━━━━━━━━━\u001b[0m\u001b[37m\u001b[0m \u001b[1m0s\u001b[0m 23ms/step - loss: 141646.5312 - mse: 50113871872.0000\n",
            "Epoch 40/50\n",
            "\u001b[1m2/2\u001b[0m \u001b[32m━━━━━━━━━━━━━━━━━━━━\u001b[0m\u001b[37m\u001b[0m \u001b[1m0s\u001b[0m 24ms/step - loss: 143087.4844 - mse: 51262550016.0000\n",
            "Epoch 41/50\n",
            "\u001b[1m2/2\u001b[0m \u001b[32m━━━━━━━━━━━━━━━━━━━━\u001b[0m\u001b[37m\u001b[0m \u001b[1m0s\u001b[0m 19ms/step - loss: 143100.8594 - mse: 51247575040.0000\n",
            "Epoch 42/50\n",
            "\u001b[1m2/2\u001b[0m \u001b[32m━━━━━━━━━━━━━━━━━━━━\u001b[0m\u001b[37m\u001b[0m \u001b[1m0s\u001b[0m 20ms/step - loss: 142058.0156 - mse: 50927357952.0000 \n",
            "Epoch 43/50\n",
            "\u001b[1m2/2\u001b[0m \u001b[32m━━━━━━━━━━━━━━━━━━━━\u001b[0m\u001b[37m\u001b[0m \u001b[1m0s\u001b[0m 24ms/step - loss: 139598.4688 - mse: 50315845632.0000\n",
            "Epoch 44/50\n",
            "\u001b[1m2/2\u001b[0m \u001b[32m━━━━━━━━━━━━━━━━━━━━\u001b[0m\u001b[37m\u001b[0m \u001b[1m0s\u001b[0m 20ms/step - loss: 138209.8594 - mse: 49890598912.0000\n",
            "Epoch 45/50\n",
            "\u001b[1m2/2\u001b[0m \u001b[32m━━━━━━━━━━━━━━━━━━━━\u001b[0m\u001b[37m\u001b[0m \u001b[1m0s\u001b[0m 19ms/step - loss: 135814.9062 - mse: 49291452416.0000\n",
            "Epoch 46/50\n",
            "\u001b[1m2/2\u001b[0m \u001b[32m━━━━━━━━━━━━━━━━━━━━\u001b[0m\u001b[37m\u001b[0m \u001b[1m0s\u001b[0m 19ms/step - loss: 131846.0625 - mse: 47436460032.0000\n",
            "Epoch 47/50\n",
            "\u001b[1m2/2\u001b[0m \u001b[32m━━━━━━━━━━━━━━━━━━━━\u001b[0m\u001b[37m\u001b[0m \u001b[1m0s\u001b[0m 22ms/step - loss: 135443.0156 - mse: 49093988352.0000\n",
            "Epoch 48/50\n",
            "\u001b[1m2/2\u001b[0m \u001b[32m━━━━━━━━━━━━━━━━━━━━\u001b[0m\u001b[37m\u001b[0m \u001b[1m0s\u001b[0m 20ms/step - loss: 132452.7031 - mse: 48363180032.0000\n",
            "Epoch 49/50\n",
            "\u001b[1m2/2\u001b[0m \u001b[32m━━━━━━━━━━━━━━━━━━━━\u001b[0m\u001b[37m\u001b[0m \u001b[1m0s\u001b[0m 22ms/step - loss: 132117.2500 - mse: 48256311296.0000\n",
            "Epoch 50/50\n",
            "\u001b[1m2/2\u001b[0m \u001b[32m━━━━━━━━━━━━━━━━━━━━\u001b[0m\u001b[37m\u001b[0m \u001b[1m0s\u001b[0m 19ms/step - loss: 130566.9141 - mse: 47855726592.0000\n"
          ]
        }
      ]
    },
    {
      "cell_type": "code",
      "source": [
        "# Plot the training loss for each epoch\n",
        "\n",
        "loss = history.history['loss']\n",
        "\n",
        "epochs = range(len(loss))\n",
        "\n",
        "plt.plot(epochs, loss, 'r', label='Training loss')\n",
        "plt.title('Training loss')\n",
        "plt.legend(loc=0)\n",
        "plt.show()"
      ],
      "metadata": {
        "colab": {
          "base_uri": "https://localhost:8080/",
          "height": 452
        },
        "id": "Iel1r8py2IUs",
        "outputId": "2069e703-50af-48bf-ba0a-986689eccbac"
      },
      "execution_count": 31,
      "outputs": [
        {
          "output_type": "display_data",
          "data": {
            "text/plain": [
              "<Figure size 640x480 with 1 Axes>"
            ],
            "image/png": "[encoded data removed]"
          },
          "metadata": {}
        }
      ]
    },
    {
      "cell_type": "code",
      "source": [
        "def compute_metrics(true_series, forecast):\n",
        "    \"\"\"Computes MSE and MAE metrics for the forecast\"\"\"\n",
        "    mse = tf.keras.losses.MSE(true_series, forecast)\n",
        "    mae = tf.keras.losses.MAE(true_series, forecast)\n",
        "    return mse, mae"
      ],
      "metadata": {
        "id": "jsXdEvXu2OA9"
      },
      "execution_count": 32,
      "outputs": []
    },
    {
      "cell_type": "code",
      "source": [
        "def model_forecast(model, series, window_size):\n",
        "    \"\"\"Generates a forecast using your trained model\"\"\"\n",
        "    ds = tf.data.Dataset.from_tensor_slices(series)\n",
        "    ds = ds.window(window_size, shift=1, drop_remainder=True)\n",
        "    ds = ds.flat_map(lambda w: w.batch(window_size))\n",
        "    ds = ds.batch(32).prefetch(1)\n",
        "    forecast = model.predict(ds)\n",
        "    return forecast"
      ],
      "metadata": {
        "id": "M6rwp4oi2U_i"
      },
      "execution_count": 33,
      "outputs": []
    },
    {
      "cell_type": "code",
      "source": [
        "# Compute the forecast for the validation dataset. Remember you need the last WINDOW SIZE values to make the first prediction\n",
        "rnn_forecast = model_forecast(model, SERIES[SPLIT_TIME-WINDOW_SIZE:-1], WINDOW_SIZE).squeeze()"
      ],
      "metadata": {
        "colab": {
          "base_uri": "https://localhost:8080/"
        },
        "id": "DWAfBEs62WXX",
        "outputId": "4807655c-a402-44f3-d6b9-62a11b30683d"
      },
      "execution_count": 34,
      "outputs": [
        {
          "output_type": "stream",
          "name": "stdout",
          "text": [
            "\u001b[1m2/2\u001b[0m \u001b[32m━━━━━━━━━━━━━━━━━━━━\u001b[0m\u001b[37m\u001b[0m \u001b[1m1s\u001b[0m 458ms/step\n"
          ]
        }
      ]
    },
    {
      "cell_type": "code",
      "source": [
        "# Plot the forecast\n",
        "plt.figure(figsize=(30, 6))\n",
        "plot_series(time_valid, series_valid)\n",
        "plot_series(time_valid, rnn_forecast)"
      ],
      "metadata": {
        "colab": {
          "base_uri": "https://localhost:8080/",
          "height": 267
        },
        "id": "PASvlS1H2ats",
        "outputId": "ed4ebbcf-93e9-434d-a47d-90b3e8476d04"
      },
      "execution_count": 35,
      "outputs": [
        {
          "output_type": "display_data",
          "data": {
            "text/plain": [
              "<Figure size 3000x600 with 1 Axes>"
            ],
            "image/png": "[encoded data removed]"
          },
          "metadata": {}
        }
      ]
    },
    {
      "cell_type": "code",
      "source": [
        "mse, mae = compute_metrics(series_valid, rnn_forecast)\n",
        "\n",
        "print(f\"mse: {mse:.2f}, mae: {mae:.2f} for forecast\")"
      ],
      "metadata": {
        "colab": {
          "base_uri": "https://localhost:8080/"
        },
        "id": "TvMN2K7n2gv2",
        "outputId": "a9f6dc04-5745-4db3-a5e9-10ffb070c7b6"
      },
      "execution_count": 36,
      "outputs": [
        {
          "output_type": "stream",
          "name": "stdout",
          "text": [
            "mse: 20783486976.00, mae: 95210.22 for forecast\n"
          ]
        }
      ]
    },
    {
      "cell_type": "code",
      "source": [
        "\"\"\" # Save metrics into a dictionary\n",
        "metrics_dict = {\n",
        "    \"mse\": float(mse),\n",
        "    \"mae\": float(mae)\n",
        "}\n",
        "\n",
        "# Save your metrics in a binary file\n",
        "with open('metrics.pkl', 'wb') as f:\n",
        "    pickle.dump(metrics_dict, f)"
      ],
      "metadata": {
        "colab": {
          "base_uri": "https://localhost:8080/",
          "height": 106
        },
        "id": "5qzt-V752pJP",
        "outputId": "509b3d62-3470-4b05-ea19-953677499adc"
      },
      "execution_count": 37,
      "outputs": [
        {
          "output_type": "error",
          "ename": "SyntaxError",
          "evalue": "incomplete input (<ipython-input-37-c767f62e296a>, line 1)",
          "traceback": [
            "\u001b[0;36m  File \u001b[0;32m\"<ipython-input-37-c767f62e296a>\"\u001b[0;36m, line \u001b[0;32m1\u001b[0m\n\u001b[0;31m    \"\"\" # Save metrics into a dictionary\u001b[0m\n\u001b[0m    ^\u001b[0m\n\u001b[0;31mSyntaxError\u001b[0m\u001b[0;31m:\u001b[0m incomplete input\n"
          ]
        }
      ]
    }
  ]
}